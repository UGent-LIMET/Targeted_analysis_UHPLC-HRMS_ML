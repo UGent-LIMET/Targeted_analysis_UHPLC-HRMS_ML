{
 "cells": [
  {
   "cell_type": "code",
   "execution_count": 1,
   "id": "9ae6444f",
   "metadata": {},
   "outputs": [],
   "source": [
    "import pickle"
   ]
  },
  {
   "cell_type": "code",
   "execution_count": 2,
   "id": "9252f689",
   "metadata": {},
   "outputs": [
    {
     "ename": "FileNotFoundError",
     "evalue": "[Errno 2] No such file or directory: '/media/sf_SF/Stage2021/targetedQE/data/input/MachineLearning/Xarrays/'",
     "output_type": "error",
     "traceback": [
      "\u001b[0;31m---------------------------------------------------------------------------\u001b[0m",
      "\u001b[0;31mFileNotFoundError\u001b[0m                         Traceback (most recent call last)",
      "\u001b[0;32m<ipython-input-2-85ce075ccae4>\u001b[0m in \u001b[0;36m<module>\u001b[0;34m\u001b[0m\n\u001b[1;32m     42\u001b[0m \u001b[0mfilenames_X_train\u001b[0m \u001b[0;34m=\u001b[0m \u001b[0;34m[\u001b[0m\u001b[0;34m]\u001b[0m\u001b[0;34m\u001b[0m\u001b[0;34m\u001b[0m\u001b[0m\n\u001b[1;32m     43\u001b[0m \u001b[0mfilenames_X_test\u001b[0m \u001b[0;34m=\u001b[0m \u001b[0;34m[\u001b[0m\u001b[0;34m]\u001b[0m\u001b[0;34m\u001b[0m\u001b[0;34m\u001b[0m\u001b[0m\n\u001b[0;32m---> 44\u001b[0;31m \u001b[0mdirectory_list\u001b[0m \u001b[0;34m=\u001b[0m \u001b[0mos\u001b[0m\u001b[0;34m.\u001b[0m\u001b[0mlistdir\u001b[0m\u001b[0;34m(\u001b[0m\u001b[0mpath_data_X\u001b[0m\u001b[0;34m)\u001b[0m\u001b[0;34m\u001b[0m\u001b[0;34m\u001b[0m\u001b[0m\n\u001b[0m\u001b[1;32m     45\u001b[0m \u001b[0;31m# print(directory_list)\u001b[0m\u001b[0;34m\u001b[0m\u001b[0;34m\u001b[0m\u001b[0;34m\u001b[0m\u001b[0m\n\u001b[1;32m     46\u001b[0m \u001b[0;34m\u001b[0m\u001b[0m\n",
      "\u001b[0;31mFileNotFoundError\u001b[0m: [Errno 2] No such file or directory: '/media/sf_SF/Stage2021/targetedQE/data/input/MachineLearning/Xarrays/'"
     ]
    }
   ],
   "source": [
    "\n",
    "############Adjustments##############\n",
    "\n",
    "#options\n",
    "PATH_DI06C001 = '/media/sf_SF/Stage2021/targetedQE/' \n",
    "\n",
    "## Adjustments\n",
    "path = PATH_DI06C001\n",
    "\n",
    "filename_Y_labels = 'total_y_matrix_with_binary_label.txt'\n",
    "\n",
    "########################\n",
    "\n",
    "\n",
    "\n",
    "# load libraries\n",
    "import pandas as pd\n",
    "import os\n",
    "import random\n",
    "from PIL import Image\n",
    "import numpy as np\n",
    "\n",
    "\n",
    "#set paths\n",
    "path_data_in = path + 'data/input/' + 'MachineLearning/'\n",
    "path_data_out = path + 'data/output/' + 'MachineLearning/'\n",
    "path_data_X = path_data_in + 'Xarrays/' #png's\n",
    "path_data_y = path_data_in + 'Yarrays/' #labels\n",
    "\n",
    "\n",
    "\n",
    "## Y\n",
    "#load all Y labels together\n",
    "filename = path_data_y + filename_Y_labels\n",
    "# print(filename)\n",
    "\n",
    "y = pd.read_csv(filename, sep='\\t')\n",
    "\n",
    "\n",
    "\n",
    "## X\n",
    "#list all X files and devide in train OR test folder\n",
    "filenames_X_train = []\n",
    "filenames_X_test = []\n",
    "directory_list = os.listdir(path_data_X)\n",
    "# print(directory_list)\n",
    "\n",
    "#random order list with filenames\n",
    "random.shuffle(directory_list)\n",
    "\n",
    "os.chdir(path_data_X)\n",
    "\n",
    "i = 0\n",
    "for filename in directory_list:\n",
    "    #print (filename) #all files, folders\n",
    "    #print (i)\n",
    "    if \".png\" in filename :\n",
    "        #print (filename)\n",
    "        if i % 3 == 0: \n",
    "            #1/3th of data is test set, rest in train\n",
    "            #print(i)\n",
    "            filenames_X_test.append(path_data_X + filename)\n",
    "        else:\n",
    "            filenames_X_train.append(path_data_X + filename)\n",
    "        i = i + 1\n",
    "        \n",
    " #check ok? 70-30 devide train - test? ok     \n",
    "print(len(filenames_X_train))\n",
    "print(len(filenames_X_test))\n",
    "\n",
    "\n",
    "## load X data + Merge per train/test X's with Y to S1\n",
    "#keep only non unique values\n",
    "\n",
    "\n",
    "def load_X_if_matched_in_y(filenames_list, y):\n",
    "    all_images_as_array=[]\n",
    "    label=[]  \n",
    "    global ordered_filenames\n",
    "    ordered_filenames=pd.DataFrame()\n",
    "    # match = 0\n",
    "    # no_match = 0\n",
    "    for filename in filenames_list:\n",
    "        #print(filename)\n",
    "        #filename = filenames_X_train[3]\n",
    "        filename_wopath = filename.split('Xarrays/')[1]\n",
    "        #filename_wopath = filename_wopath[:-4] #wo .png todo, see same x/y !!!\n",
    "        #filename_wobw = filename_wopath.split('_bw')[0]+\".png\"\n",
    "        #print(filename_wopath)\n",
    "    \n",
    "        matching_y = y[y.png==filename_wopath]\n",
    "        #print(matching_y)\n",
    "        if len(matching_y) == 1:\n",
    "            file_lab = pd.DataFrame()\n",
    "            lab = matching_y.iloc[0,2] #1st elem contains string NF/FOUND\n",
    "            label.append(lab) \n",
    "            \n",
    "            #load figure correctly as array [[], [], []]]\n",
    "            img=Image.open(filename)\n",
    "            np_array = np.asarray(img)\n",
    "            #print(np_array.shape)\n",
    "            \n",
    "            l,b,c = np_array.shape    \n",
    "            np_array = np_array.reshape(l*b*c,)   \n",
    "            all_images_as_array.append(np_array)\n",
    "            \n",
    "            file_lab = pd.DataFrame(np.array([[filename_wopath,lab]]))\n",
    "            #print(file_lab)\n",
    "            ordered_filenames = ordered_filenames.append(file_lab, ignore_index=True)\n",
    "            \n",
    "        if len(matching_y) != 1:\n",
    "            # print(\"no or multiple match(es) in y found for: \" + filename)\n",
    "            # no_match = no_match + 1\n",
    "            continue\n",
    "            \n",
    "    #print(ordered_filenames)\n",
    "    return np.array(all_images_as_array), np.array(label)\n",
    "    \n",
    "\n",
    "#if re.match(filename_wopath, y.Name[0]): #todo search in volled colom, ev niet via regress want wo .png moet volled zelfde\n",
    "        \n",
    "\n",
    "\n",
    "X_train,y_train = load_X_if_matched_in_y(filenames_X_train, y)\n",
    "X_test, y_test = load_X_if_matched_in_y(filenames_X_test, y)\n",
    "\n",
    "print(len(X_train))\n",
    "print(len(X_test))\n",
    "#print(ordered_filenames)"
   ]
  },
  {
   "cell_type": "code",
   "execution_count": null,
   "id": "19e75120",
   "metadata": {},
   "outputs": [],
   "source": [
    "%matplotlib inline\n",
    "import numpy as np\n",
    "import pandas as pd\n",
    "import matplotlib.pyplot as plt\n",
    "\n",
    "from sklearn import linear_model\n",
    "\n",
    "from sklearn.linear_model import Ridge\n",
    "from sklearn.linear_model import Lasso\n",
    "\n",
    "from sklearn import linear_model, datasets\n",
    "from sklearn import model_selection\n",
    "from sklearn.ensemble import BaggingClassifier\n",
    "from sklearn.tree import DecisionTreeClassifier\n",
    "from sklearn.ensemble import AdaBoostClassifier\n",
    "from sklearn.ensemble import GradientBoostingClassifier\n",
    "\n",
    "from sklearn.model_selection import train_test_split\n",
    "from sklearn.metrics import classification_report\n",
    "from sklearn import preprocessing\n",
    "\n",
    "from sklearn.metrics import confusion_matrix, accuracy_score\n",
    "from sklearn.linear_model import LogisticRegression\n",
    "from sklearn.ensemble import RandomForestClassifier\n",
    "from sklearn.ensemble import RandomForestRegressor\n",
    "from sklearn import tree\n"
   ]
  },
  {
   "cell_type": "code",
   "execution_count": null,
   "id": "0c6e7435",
   "metadata": {},
   "outputs": [],
   "source": [
    "# Random Forest Classifier\n",
    "X_train,y_train = load_X_if_matched_in_y(filenames_X_train, y)\n",
    "X_test, y_test = load_X_if_matched_in_y(filenames_X_test, y)\n",
    "\n",
    "number_of_trees = 6000\n",
    "max_number_of_features = 2\n",
    "\n",
    "#Maken van het model\n",
    "RFCmodel = RandomForestClassifier(n_estimators=200, max_depth=200, max_features=max_number_of_features, random_state = 18)\n",
    "\n",
    "#Trainen van het model\n",
    "RFCmodel.fit(X_train,y_train)\n",
    "\n",
    "#Hoe belangrijk is elke feature voor het model (0.22 en 0.15 zullen dan degene zijn die gebruikt worden aangezien je slecht 2 features gebruikt hier)\n",
    "print(RFCmodel.feature_importances_)"
   ]
  },
  {
   "cell_type": "code",
   "execution_count": null,
   "id": "7310cf74",
   "metadata": {},
   "outputs": [],
   "source": [
    "# Test Random Forest Classifier\n",
    "\n",
    "y_pred = RFCmodel.predict(X_test)\n",
    "\n",
    "print(classification_report(y_test, y_pred))\n",
    "\n",
    "cm = confusion_matrix(y_test, y_pred)\n",
    "print(cm)\n",
    "print(\"\\naccuracy\")\n",
    "print(accuracy_score(y_test, y_pred) * 100) "
   ]
  },
  {
   "cell_type": "code",
   "execution_count": null,
   "id": "153380c3",
   "metadata": {},
   "outputs": [],
   "source": [
    "filename = 'test_model.sav'\n",
    "pickle.dump(RFCmodel, open(filename, 'wb'))\n",
    " "
   ]
  },
  {
   "cell_type": "code",
   "execution_count": null,
   "id": "f44d50a3",
   "metadata": {},
   "outputs": [],
   "source": [
    "import pickle\n",
    "\n",
    "loaded_model = pickle.load(open('test_model.sav', 'rb'))\n",
    "result = loaded_model.score(X_test, y_test)\n",
    "print(result)"
   ]
  },
  {
   "cell_type": "code",
   "execution_count": null,
   "id": "87ed31dc",
   "metadata": {},
   "outputs": [],
   "source": [
    "# Test Random Forest Classifier\n",
    "y_pred = loaded_model.predict(X_test)\n",
    "print(type(y_pred))\n",
    "print(classification_report(y_test, y_pred))\n",
    "cm = confusion_matrix(y_test, y_pred)\n",
    "print(cm)\n",
    "print(\"\\naccuracy\")\n",
    "print(accuracy_score(y_test, y_pred) * 100) "
   ]
  },
  {
   "cell_type": "code",
   "execution_count": null,
   "id": "e9a7a961",
   "metadata": {},
   "outputs": [],
   "source": [
    "# Test Random Forest Classifier\n",
    "y_pred_proba = loaded_model.predict_proba(X_test)\n",
    "print(y_pred_proba)"
   ]
  },
  {
   "cell_type": "code",
   "execution_count": null,
   "id": "4c14e329",
   "metadata": {},
   "outputs": [],
   "source": [
    "df = pd.DataFrame(data=y_pred_proba)\n",
    "print(df)"
   ]
  },
  {
   "cell_type": "code",
   "execution_count": null,
   "id": "c7e0ce14",
   "metadata": {},
   "outputs": [],
   "source": [
    "df2= pd.DataFrame(data=y_pred)\n",
    "print(df2)"
   ]
  },
  {
   "cell_type": "code",
   "execution_count": null,
   "id": "29234d0e",
   "metadata": {},
   "outputs": [],
   "source": [
    "result=pd.concat([ordered_filenames,df2, df], axis=1)"
   ]
  },
  {
   "cell_type": "code",
   "execution_count": null,
   "id": "15d79aec",
   "metadata": {},
   "outputs": [],
   "source": [
    "print(result)"
   ]
  },
  {
   "cell_type": "code",
   "execution_count": null,
   "id": "2c004477",
   "metadata": {},
   "outputs": [],
   "source": [
    "result.to_csv('png_with_prediction.txt', sep=\"\\t\")"
   ]
  },
  {
   "cell_type": "code",
   "execution_count": null,
   "id": "aba8328b",
   "metadata": {},
   "outputs": [],
   "source": []
  }
 ],
 "metadata": {
  "kernelspec": {
   "display_name": "Python 3",
   "language": "python",
   "name": "python3"
  },
  "language_info": {
   "codemirror_mode": {
    "name": "ipython",
    "version": 3
   },
   "file_extension": ".py",
   "mimetype": "text/x-python",
   "name": "python",
   "nbconvert_exporter": "python",
   "pygments_lexer": "ipython3",
   "version": "3.6.8"
  }
 },
 "nbformat": 4,
 "nbformat_minor": 5
}
