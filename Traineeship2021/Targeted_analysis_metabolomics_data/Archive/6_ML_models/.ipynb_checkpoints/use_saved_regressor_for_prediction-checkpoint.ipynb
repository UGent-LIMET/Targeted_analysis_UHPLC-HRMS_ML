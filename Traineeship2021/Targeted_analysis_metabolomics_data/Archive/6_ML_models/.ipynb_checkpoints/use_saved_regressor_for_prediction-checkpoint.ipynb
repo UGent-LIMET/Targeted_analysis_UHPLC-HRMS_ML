{
 "cells": [
  {
   "cell_type": "code",
   "execution_count": 16,
   "id": "974687d9",
   "metadata": {},
   "outputs": [
    {
     "name": "stdout",
     "output_type": "stream",
     "text": [
      "36\n",
      "36\n",
      "18\n",
      "18\n",
      "0\n",
      "                             0                   1\n",
      "0     200929s002_Dopamined4HCL  3351540725.7382803\n",
      "1   200929s040_Lalanined3333D3    2072079.31864908\n",
      "2     200929s015_Dopamined4HCL    602095705.052871\n",
      "3       200929s044_LLacticacid    15612212500.9243\n",
      "4   200929s013_Lalanined3333D3    80428.3561022166\n",
      "5     200929s009_Dopamined4HCL    622301558.662578\n",
      "6   200929s045_Lalanined3333D3  100526.91729363901\n",
      "7     200929s039_Dopamined4HCL    565346437.426464\n",
      "8   200929s002_Lalanined3333D3    49397.7532518717\n",
      "9   200929s048_Lalanined3333D3                 0.0\n",
      "10      200929s002_LLacticacid     605762757.71143\n",
      "11    200929s043_Dopamined4HCL      587732573.1865\n",
      "12    200929s041_Dopamined4HCL     586637284.62658\n",
      "13  200929s015_Lalanined3333D3    199639.214280302\n",
      "14    200929s016_Dopamined4HCL    592851657.218494\n",
      "15    200929s048_Dopamined4HCL  3759889678.2855897\n",
      "16      200929s012_LLacticacid    13701643881.0486\n",
      "17      200929s009_LLacticacid    9101507557.84202\n"
     ]
    }
   ],
   "source": [
    "\n",
    "############Adjustments##############\n",
    "\n",
    "#options\n",
    "PATH = '/media/sf_SF/Stage2021/targetedQE/' \n",
    "OPTION = 'area' # area or label\n",
    "PNG = '/media/sf_SF/Stage2021/Projects/MRM_feces/Lactic_acid/std/resized/'\n",
    "## Adjustments\n",
    "\n",
    "filename_Y_labels = 'total_y_matrix.txt'\n",
    "\n",
    "########################\n",
    "\n",
    "\n",
    "\n",
    "# load libraries\n",
    "import pandas as pd\n",
    "import os\n",
    "import random\n",
    "from PIL import Image\n",
    "import numpy as np\n",
    "\n",
    "\n",
    "#set paths\n",
    "path_data_in = PATH + 'data/input/' + 'MachineLearning/'\n",
    "path_data_out = PATH + 'data/output/' + 'MachineLearning/'\n",
    "path_data_X = PNG\n",
    "path_data_y = path_data_in + 'Yarrays/' #labels\n",
    "\n",
    "\n",
    "filename = path_data_y + filename_Y_labels\n",
    "\n",
    "y = pd.read_csv(filename, sep = \"\\t\")\n",
    "\n",
    "filenames_X_train = []\n",
    "filenames_X_test = []\n",
    "\n",
    "directory_list = os.listdir(path_data_X)\n",
    "\n",
    "random.shuffle(directory_list)\n",
    "os.chdir(path_data_X)\n",
    "\n",
    "i = 0\n",
    "for filename in directory_list:\n",
    "    if \".png\" in filename :\n",
    "        if i % 3 == 0: \n",
    "            filenames_X_test.append(path_data_X + filename)\n",
    "        else:\n",
    "            filenames_X_train.append(path_data_X + filename)\n",
    "        i = i + 1\n",
    "\n",
    "\n",
    "def load_X_if_matched_in_y(filenames_list,y):\n",
    "    all_images_as_array=[]\n",
    "    label=[] \n",
    "    area = []  \n",
    "    global ordered_filenames\n",
    "    ordered_filenames=pd.DataFrame()\n",
    "    \n",
    "    for filename in filenames_list:\n",
    "        filename_wopath = filename.split('resized/')[1]\n",
    "        filename_wopath = filename_wopath.strip(\".png\")\n",
    "\n",
    "        matching_y = y[y.SampleTargetedcombination==filename_wopath]\n",
    "        if len(matching_y) == 1:\n",
    "            label.append(matching_y.iloc[0,5]) \n",
    "            ar = matching_y.iloc[0,3]\n",
    "            area.append(ar)\n",
    "            \n",
    "        \n",
    "            img=Image.open(filename)\n",
    "            np_array = np.asarray(img)\n",
    "\n",
    "            l,b,c = np_array.shape    \n",
    "            np_array = np_array.reshape(l*b*c,)   \n",
    "            all_images_as_array.append(np_array)\n",
    "            \n",
    "            file_area = pd.DataFrame(np.array([[filename_wopath,ar]]))\n",
    "            ordered_filenames = ordered_filenames.append(file_area, ignore_index=True)\n",
    "            \n",
    "            \n",
    "        if len(matching_y) != 1:\n",
    "            continue\n",
    "        \n",
    "    if OPTION == 'area':\n",
    "        option = area\n",
    "    else:\n",
    "        option = label       \n",
    "    \n",
    "    \n",
    "    return np.array(all_images_as_array), np.array(option)\n",
    "\n",
    "def load_prediction(filenames_list):\n",
    "    all_images_as_array=[]\n",
    "\n",
    "    for filename in filenames_list:\n",
    "\n",
    "        img=Image.open(filename)\n",
    "        np_array = np.asarray(img)\n",
    "\n",
    "        l,b,c = np_array.shape    \n",
    "        np_array = np_array.reshape(l*b*c,)   \n",
    "        all_images_as_array.append(np_array)\n",
    "\n",
    "    \n",
    "    return np.array(all_images_as_array)\n",
    "    \n",
    "prediction = load_prediction(filenames_prediction)\n",
    "X_train,y_train = load_X_if_matched_in_y(filenames_X_train, y)\n",
    "X_test, y_test = load_X_if_matched_in_y(filenames_X_test, y)\n",
    "\n",
    "print(len(y_train))\n",
    "print(len(X_train))\n",
    "print(len(y_test))\n",
    "print(len(X_test))\n",
    "print(len(prediction))\n",
    "\n",
    "print(ordered_filenames)"
   ]
  },
  {
   "cell_type": "code",
   "execution_count": 17,
   "id": "f11e5f4a",
   "metadata": {},
   "outputs": [
    {
     "name": "stdout",
     "output_type": "stream",
     "text": [
      "0.7073469460017836\n"
     ]
    }
   ],
   "source": [
    "import pickle\n",
    "loaded_model = pickle.load(open('test_saving_regressor.sav', 'rb'))\n",
    "result = loaded_model.score(X_test, y_test)\n",
    "print(result)\n",
    "\n",
    "y_pred = loaded_model.predict(X_test)"
   ]
  },
  {
   "cell_type": "code",
   "execution_count": 18,
   "id": "1e32ca1c",
   "metadata": {},
   "outputs": [
    {
     "name": "stdout",
     "output_type": "stream",
     "text": [
      "               0\n",
      "0   2.583584e+09\n",
      "1   1.167834e+08\n",
      "2   9.147335e+08\n",
      "3   1.593685e+10\n",
      "4   3.404210e+05\n",
      "5   6.036271e+08\n",
      "6   9.965605e+05\n",
      "7   4.543794e+08\n",
      "8   2.586018e+05\n",
      "9   1.774294e+08\n",
      "10  1.139093e+10\n",
      "11  8.430097e+08\n",
      "12  5.684682e+08\n",
      "13  2.001126e+05\n",
      "14  8.988996e+08\n",
      "15  2.813466e+09\n",
      "16  1.389879e+10\n",
      "17  9.605531e+09\n"
     ]
    }
   ],
   "source": [
    "df = pd.DataFrame(data=y_pred)\n",
    "print(df)"
   ]
  },
  {
   "cell_type": "code",
   "execution_count": 19,
   "id": "49089edc",
   "metadata": {},
   "outputs": [],
   "source": [
    "result=pd.concat([ordered_filenames, df], axis=1)"
   ]
  },
  {
   "cell_type": "code",
   "execution_count": 20,
   "id": "6ebc0f48",
   "metadata": {},
   "outputs": [
    {
     "name": "stdout",
     "output_type": "stream",
     "text": [
      "                             0                   1             0\n",
      "0     200929s002_Dopamined4HCL  3351540725.7382803  2.583584e+09\n",
      "1   200929s040_Lalanined3333D3    2072079.31864908  1.167834e+08\n",
      "2     200929s015_Dopamined4HCL    602095705.052871  9.147335e+08\n",
      "3       200929s044_LLacticacid    15612212500.9243  1.593685e+10\n",
      "4   200929s013_Lalanined3333D3    80428.3561022166  3.404210e+05\n",
      "5     200929s009_Dopamined4HCL    622301558.662578  6.036271e+08\n",
      "6   200929s045_Lalanined3333D3  100526.91729363901  9.965605e+05\n",
      "7     200929s039_Dopamined4HCL    565346437.426464  4.543794e+08\n",
      "8   200929s002_Lalanined3333D3    49397.7532518717  2.586018e+05\n",
      "9   200929s048_Lalanined3333D3                 0.0  1.774294e+08\n",
      "10      200929s002_LLacticacid     605762757.71143  1.139093e+10\n",
      "11    200929s043_Dopamined4HCL      587732573.1865  8.430097e+08\n",
      "12    200929s041_Dopamined4HCL     586637284.62658  5.684682e+08\n",
      "13  200929s015_Lalanined3333D3    199639.214280302  2.001126e+05\n",
      "14    200929s016_Dopamined4HCL    592851657.218494  8.988996e+08\n",
      "15    200929s048_Dopamined4HCL  3759889678.2855897  2.813466e+09\n",
      "16      200929s012_LLacticacid    13701643881.0486  1.389879e+10\n",
      "17      200929s009_LLacticacid    9101507557.84202  9.605531e+09\n"
     ]
    }
   ],
   "source": [
    "print(result)"
   ]
  },
  {
   "cell_type": "code",
   "execution_count": 11,
   "id": "941d2328",
   "metadata": {},
   "outputs": [],
   "source": [
    "result.to_csv('png_with_prediction2.txt', sep=\"\\t\")"
   ]
  },
  {
   "cell_type": "code",
   "execution_count": null,
   "id": "8a46eece",
   "metadata": {},
   "outputs": [],
   "source": []
  }
 ],
 "metadata": {
  "kernelspec": {
   "display_name": "Python 3",
   "language": "python",
   "name": "python3"
  },
  "language_info": {
   "codemirror_mode": {
    "name": "ipython",
    "version": 3
   },
   "file_extension": ".py",
   "mimetype": "text/x-python",
   "name": "python",
   "nbconvert_exporter": "python",
   "pygments_lexer": "ipython3",
   "version": "3.6.8"
  }
 },
 "nbformat": 4,
 "nbformat_minor": 5
}
