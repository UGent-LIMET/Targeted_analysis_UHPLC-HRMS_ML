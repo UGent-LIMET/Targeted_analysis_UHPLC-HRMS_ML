{
 "cells": [
  {
   "cell_type": "code",
   "execution_count": 1,
   "id": "9ae6444f",
   "metadata": {},
   "outputs": [],
   "source": [
    "import pickle"
   ]
  },
  {
   "cell_type": "code",
   "execution_count": 2,
   "id": "9252f689",
   "metadata": {},
   "outputs": [
    {
     "name": "stdout",
     "output_type": "stream",
     "text": [
      "2397\n",
      "2397\n",
      "1235\n",
      "1235\n",
      "                                                  0                  1\n",
      "0                                 200805s053_Indole    6079534.3441443\n",
      "1                      200805s055_5Aminovalericacid   833886289.279401\n",
      "2                200805s064_3hydroxyanthranilicacid   2912648.23741431\n",
      "3                             200805s065_Spermidine   329357182.316005\n",
      "4                             200805s052_Spermidine    108494026.91716\n",
      "...                                             ...                ...\n",
      "1230                         200805s053_Valericacid  952808.5711293508\n",
      "1231                  200805s070_DeoxycholicacidDCA   2279100.13441943\n",
      "1232                  200805s092_L3Phenyllacticacid   439363855.883193\n",
      "1233                  200805s048_L3Phenyllacticacid   19472653.3428882\n",
      "1234  200805s028_SodiumtaurodeoxycholatehydrateTDCA                0.0\n",
      "\n",
      "[1235 rows x 2 columns]\n",
      "1235\n"
     ]
    }
   ],
   "source": [
    "\n",
    "############Adjustments##############\n",
    "\n",
    "#options\n",
    "PATH = '/media/sf_SF/Stage2021/targetedQE/' \n",
    "OPTION = 'area' # area or label\n",
    "\n",
    "\n",
    "## Adjustments\n",
    "\n",
    "filename_Y_labels = 'total_y_matrix.txt'\n",
    "\n",
    "########################\n",
    "\n",
    "\n",
    "\n",
    "# load libraries\n",
    "import pandas as pd\n",
    "import os\n",
    "import random\n",
    "from PIL import Image\n",
    "import numpy as np\n",
    "\n",
    "\n",
    "#set paths\n",
    "path_data_in = PATH + 'data/input/' + 'MachineLearning/'\n",
    "path_data_out = PATH + 'data/output/' + 'MachineLearning/'\n",
    "path_data_X = path_data_in + 'X_arrays_7377/' #png's\n",
    "path_data_y = path_data_in + 'Yarrays/' #labels\n",
    "\n",
    "\n",
    "filename = path_data_y + filename_Y_labels\n",
    "\n",
    "y = pd.read_csv(filename, sep = \"\\t\")\n",
    "\n",
    "filenames_X_train = []\n",
    "filenames_X_test = []\n",
    "directory_list = os.listdir(path_data_X)\n",
    "random.shuffle(directory_list)\n",
    "os.chdir(path_data_X)\n",
    "\n",
    "i = 0\n",
    "for filename in directory_list:\n",
    "    if \".png\" in filename :\n",
    "        if i % 3 == 0: \n",
    "            filenames_X_test.append(path_data_X + filename)\n",
    "        else:\n",
    "            filenames_X_train.append(path_data_X + filename)\n",
    "        i = i + 1\n",
    "    \n",
    "def load_X_if_matched_in_y(filenames_list, y):\n",
    "    all_images_as_array=[]\n",
    "    label=[] \n",
    "    area = []   \n",
    "    global ordered_filenames\n",
    "    ordered_filenames=pd.DataFrame()\n",
    "    \n",
    "    for filename in filenames_list:\n",
    "        filename_wopath = filename.split('X_arrays_7377/')[1]\n",
    "        filename_wopath = filename_wopath.strip(\".png\")\n",
    "\n",
    "        matching_y = y[y.SampleTargetedcombination==filename_wopath]\n",
    "        if len(matching_y) == 1:\n",
    "            label.append(matching_y.iloc[0,5]) \n",
    "            ar = matching_y.iloc[0,3]\n",
    "            area.append(ar)\n",
    "        \n",
    "            img=Image.open(filename)\n",
    "            np_array = np.asarray(img)\n",
    "\n",
    "            l,b,c = np_array.shape    \n",
    "            np_array = np_array.reshape(l*b*c,)   \n",
    "            all_images_as_array.append(np_array)\n",
    "            \n",
    "            file_area = pd.DataFrame(np.array([[filename_wopath,ar]]))\n",
    "            ordered_filenames = ordered_filenames.append(file_area, ignore_index=True)\n",
    "            \n",
    "            \n",
    "        if len(matching_y) != 1:\n",
    "            continue\n",
    "        \n",
    "    if OPTION == 'area':\n",
    "        option = area\n",
    "    else:\n",
    "        option = label       \n",
    "    return np.array(all_images_as_array), np.array(option)\n",
    "    \n",
    "X_train,y_train = load_X_if_matched_in_y(filenames_X_train, y)\n",
    "X_test, y_test = load_X_if_matched_in_y(filenames_X_test, y)\n",
    "\n",
    "print(len(y_train))\n",
    "print(len(X_train))\n",
    "print(len(y_test))\n",
    "print(len(X_test))\n",
    "\n",
    "print(ordered_filenames)\n",
    "print(len(ordered_filenames))"
   ]
  },
  {
   "cell_type": "code",
   "execution_count": 3,
   "id": "19e75120",
   "metadata": {},
   "outputs": [],
   "source": [
    "%matplotlib inline\n",
    "import numpy as np\n",
    "import pandas as pd\n",
    "import matplotlib.pyplot as plt\n",
    "\n",
    "from sklearn import linear_model\n",
    "\n",
    "from sklearn.linear_model import Ridge\n",
    "from sklearn.linear_model import Lasso\n",
    "\n",
    "from sklearn import linear_model, datasets\n",
    "from sklearn import model_selection\n",
    "from sklearn.ensemble import BaggingClassifier\n",
    "from sklearn.tree import DecisionTreeClassifier\n",
    "from sklearn.ensemble import AdaBoostClassifier\n",
    "from sklearn.ensemble import GradientBoostingClassifier\n",
    "\n",
    "from sklearn.model_selection import train_test_split\n",
    "from sklearn.metrics import classification_report\n",
    "from sklearn import preprocessing\n",
    "\n",
    "from sklearn.metrics import confusion_matrix, accuracy_score\n",
    "from sklearn.linear_model import LogisticRegression\n",
    "from sklearn.ensemble import RandomForestClassifier\n",
    "from sklearn.ensemble import RandomForestRegressor\n",
    "from sklearn import tree\n"
   ]
  },
  {
   "cell_type": "code",
   "execution_count": 4,
   "id": "e04c2c85",
   "metadata": {},
   "outputs": [
    {
     "name": "stdout",
     "output_type": "stream",
     "text": [
      "Fitting Random Forest regression on training set\n",
      "\n",
      "\n",
      "Getting Model Accuracy...\n",
      "Training Accuracy =  0.9686273874957818\n",
      "Test Accuracy =  0.7719067833913993\n"
     ]
    }
   ],
   "source": [
    "print(\"Fitting Random Forest regression on training set\")\n",
    "\n",
    "# Fitting the regression model to the dataset\n",
    "regressor = RandomForestRegressor(n_estimators=200, max_depth=200, random_state = 18)\n",
    "regressor.fit(X_train, y_train) # Using ravel() to avoid getting 'DataConversionWarning' warning message\n",
    "\n",
    "#------------------------------------------------------------------------------------------------------------------------#\n",
    "\n",
    "\n",
    "#------------------------------------------------------------------------------------------------------------------------#\n",
    "print(\"\\n\")\n",
    "print(\"Getting Model Accuracy...\")\n",
    "\n",
    "# Get regression details\n",
    "#print(\"Estimated Coefficient = \", regressor.coef_)\n",
    "#print(\"Estimated Intercept = \", regressor.intercept_)\n",
    "print(\"Training Accuracy = \", regressor.score(X_train, y_train))\n",
    "print(\"Test Accuracy = \", regressor.score(X_test, y_test))\n",
    "\n"
   ]
  },
  {
   "cell_type": "code",
   "execution_count": 5,
   "id": "011c558c",
   "metadata": {},
   "outputs": [],
   "source": [
    "import pickle"
   ]
  },
  {
   "cell_type": "code",
   "execution_count": 6,
   "id": "7d2df4ea",
   "metadata": {},
   "outputs": [],
   "source": [
    "filename = 'regressor_3105_7337.sav'\n",
    "pickle.dump(regressor, open(filename, 'wb'))"
   ]
  },
  {
   "cell_type": "code",
   "execution_count": 7,
   "id": "fe5e06a8",
   "metadata": {},
   "outputs": [],
   "source": [
    "y_pred = regressor.predict(X_test)"
   ]
  },
  {
   "cell_type": "code",
   "execution_count": 8,
   "id": "000fe46e",
   "metadata": {},
   "outputs": [
    {
     "data": {
      "text/plain": [
       "[<matplotlib.lines.Line2D at 0x7fdf1346ad68>,\n",
       " <matplotlib.lines.Line2D at 0x7fdf134ca5c0>]"
      ]
     },
     "execution_count": 8,
     "metadata": {},
     "output_type": "execute_result"
    },
    {
     "data": {
      "image/png": "[encoded data removed]",
      "text/plain": [
       "<Figure size 432x288 with 1 Axes>"
      ]
     },
     "metadata": {
      "needs_background": "light"
     },
     "output_type": "display_data"
    }
   ],
   "source": [
    "coef = np.polyfit(y_pred,y_test,1)\n",
    "poly1d_fn = np.poly1d(coef) \n",
    "# poly1d_fn is now a function which takes in x and returns an estimate for y\n",
    "\n",
    "plt.plot(y_pred,y_test, 'yo', y_pred, poly1d_fn(y_pred), '--k')"
   ]
  },
  {
   "cell_type": "code",
   "execution_count": 9,
   "id": "9aab0528",
   "metadata": {},
   "outputs": [
    {
     "name": "stdout",
     "output_type": "stream",
     "text": [
      "                 0\n",
      "0     7.947751e+06\n",
      "1     1.299653e+09\n",
      "2     4.876309e+07\n",
      "3     3.416833e+08\n",
      "4     2.993530e+07\n",
      "...            ...\n",
      "1230  2.605126e+06\n",
      "1231  7.208142e+07\n",
      "1232  4.824224e+08\n",
      "1233  3.103171e+07\n",
      "1234  2.519806e+06\n",
      "\n",
      "[1235 rows x 1 columns]\n"
     ]
    }
   ],
   "source": [
    "df = pd.DataFrame(data=y_pred)\n",
    "print(df)"
   ]
  },
  {
   "cell_type": "code",
   "execution_count": 10,
   "id": "ee4440c4",
   "metadata": {},
   "outputs": [],
   "source": [
    "result=pd.concat([ordered_filenames, df], axis=1)"
   ]
  },
  {
   "cell_type": "code",
   "execution_count": 11,
   "id": "d7fbad80",
   "metadata": {},
   "outputs": [],
   "source": [
    "result.to_csv('y_pred_with_regressor_3105_7337.txt', sep=\"\\t\")"
   ]
  },
  {
   "cell_type": "code",
   "execution_count": null,
   "id": "0888254f",
   "metadata": {},
   "outputs": [],
   "source": []
  }
 ],
 "metadata": {
  "kernelspec": {
   "display_name": "Python 3",
   "language": "python",
   "name": "python3"
  },
  "language_info": {
   "codemirror_mode": {
    "name": "ipython",
    "version": 3
   },
   "file_extension": ".py",
   "mimetype": "text/x-python",
   "name": "python",
   "nbconvert_exporter": "python",
   "pygments_lexer": "ipython3",
   "version": "3.6.8"
  }
 },
 "nbformat": 4,
 "nbformat_minor": 5
}
