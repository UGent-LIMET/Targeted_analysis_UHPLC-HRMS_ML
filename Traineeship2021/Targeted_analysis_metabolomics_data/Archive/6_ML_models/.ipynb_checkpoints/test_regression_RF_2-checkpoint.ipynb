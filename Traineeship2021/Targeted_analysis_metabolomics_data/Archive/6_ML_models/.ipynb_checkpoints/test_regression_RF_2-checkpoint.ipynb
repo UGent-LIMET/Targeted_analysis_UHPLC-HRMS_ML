{
 "cells": [
  {
   "cell_type": "code",
   "execution_count": 1,
   "id": "9ae6444f",
   "metadata": {},
   "outputs": [],
   "source": [
    "import pickle"
   ]
  },
  {
   "cell_type": "code",
   "execution_count": 2,
   "id": "9252f689",
   "metadata": {},
   "outputs": [
    {
     "name": "stdout",
     "output_type": "stream",
     "text": [
      "2413\n",
      "2413\n",
      "1220\n",
      "1220\n",
      "                                                  0                   1\n",
      "0                         200805s067_2Butoxyethanol                 0.0\n",
      "1                         200805s073_2Butoxyethanol                 0.0\n",
      "2                      200805s029_5Aminovalericacid  1498741646.6345801\n",
      "3                   200805s030_Skatole3methylindole    752184.659345862\n",
      "4                       200805s065_3Phenyl1propanol                 0.0\n",
      "...                                             ...                 ...\n",
      "1215                        200805s058_Hexanoicacid     122603.61581247\n",
      "1216                         200929s041_LLacticacid    11753729898.1477\n",
      "1217                          200805s042_Tryptamine    3057681.96079984\n",
      "1218  200805s051_SodiumtaurodeoxycholatehydrateTDCA                 0.0\n",
      "1219                         200805s074_Valericacid   533802.0378359071\n",
      "\n",
      "[1220 rows x 2 columns]\n",
      "1220\n"
     ]
    }
   ],
   "source": [
    "\n",
    "############Adjustments##############\n",
    "\n",
    "#options\n",
    "PATH = '/media/sf_SF/Stage2021/targetedQE/' \n",
    "OPTION = 'area' # area or label\n",
    "\n",
    "\n",
    "## Adjustments\n",
    "\n",
    "filename_Y_labels = 'total_y_matrix.txt'\n",
    "\n",
    "########################\n",
    "\n",
    "\n",
    "\n",
    "# load libraries\n",
    "import pandas as pd\n",
    "import os\n",
    "import random\n",
    "from PIL import Image\n",
    "import numpy as np\n",
    "\n",
    "\n",
    "#set paths\n",
    "path_data_in = PATH + 'data/input/' + 'MachineLearning/'\n",
    "path_data_out = PATH + 'data/output/' + 'MachineLearning/'\n",
    "path_data_X = path_data_in + 'X_arrays_5110/' #png's\n",
    "path_data_y = path_data_in + 'Yarrays/' #labels\n",
    "\n",
    "\n",
    "filename = path_data_y + filename_Y_labels\n",
    "\n",
    "y = pd.read_csv(filename, sep = \"\\t\")\n",
    "\n",
    "filenames_X_train = []\n",
    "filenames_X_test = []\n",
    "directory_list = os.listdir(path_data_X)\n",
    "random.shuffle(directory_list)\n",
    "os.chdir(path_data_X)\n",
    "\n",
    "i = 0\n",
    "for filename in directory_list:\n",
    "    if \".png\" in filename :\n",
    "        if i % 3 == 0: \n",
    "            filenames_X_test.append(path_data_X + filename)\n",
    "        else:\n",
    "            filenames_X_train.append(path_data_X + filename)\n",
    "        i = i + 1\n",
    "    \n",
    "def load_X_if_matched_in_y(filenames_list, y):\n",
    "    all_images_as_array=[]\n",
    "    label=[] \n",
    "    area = []   \n",
    "    global ordered_filenames\n",
    "    ordered_filenames=pd.DataFrame()\n",
    "    \n",
    "    for filename in filenames_list:\n",
    "        filename_wopath = filename.split('X_arrays_5110/')[1]\n",
    "        filename_wopath = filename_wopath.strip(\".png\")\n",
    "\n",
    "        matching_y = y[y.SampleTargetedcombination==filename_wopath]\n",
    "        if len(matching_y) == 1:\n",
    "            label.append(matching_y.iloc[0,5]) \n",
    "            ar = matching_y.iloc[0,3]\n",
    "            area.append(ar)\n",
    "        \n",
    "            img=Image.open(filename)\n",
    "            np_array = np.asarray(img)\n",
    "\n",
    "            l,b,c = np_array.shape    \n",
    "            np_array = np_array.reshape(l*b*c,)   \n",
    "            all_images_as_array.append(np_array)\n",
    "            \n",
    "            file_area = pd.DataFrame(np.array([[filename_wopath,ar]]))\n",
    "            ordered_filenames = ordered_filenames.append(file_area, ignore_index=True)\n",
    "            \n",
    "            \n",
    "        if len(matching_y) != 1:\n",
    "            continue\n",
    "        \n",
    "    if OPTION == 'area':\n",
    "        option = area\n",
    "    else:\n",
    "        option = label       \n",
    "    return np.array(all_images_as_array), np.array(option)\n",
    "    \n",
    "X_train,y_train = load_X_if_matched_in_y(filenames_X_train, y)\n",
    "X_test, y_test = load_X_if_matched_in_y(filenames_X_test, y)\n",
    "\n",
    "print(len(y_train))\n",
    "print(len(X_train))\n",
    "print(len(y_test))\n",
    "print(len(X_test))\n",
    "\n",
    "print(ordered_filenames)\n",
    "print(len(ordered_filenames))"
   ]
  },
  {
   "cell_type": "code",
   "execution_count": 3,
   "id": "19e75120",
   "metadata": {},
   "outputs": [],
   "source": [
    "%matplotlib inline\n",
    "import numpy as np\n",
    "import pandas as pd\n",
    "import matplotlib.pyplot as plt\n",
    "\n",
    "from sklearn import linear_model\n",
    "\n",
    "from sklearn.linear_model import Ridge\n",
    "from sklearn.linear_model import Lasso\n",
    "\n",
    "from sklearn import linear_model, datasets\n",
    "from sklearn import model_selection\n",
    "from sklearn.ensemble import BaggingClassifier\n",
    "from sklearn.tree import DecisionTreeClassifier\n",
    "from sklearn.ensemble import AdaBoostClassifier\n",
    "from sklearn.ensemble import GradientBoostingClassifier\n",
    "\n",
    "from sklearn.model_selection import train_test_split\n",
    "from sklearn.metrics import classification_report\n",
    "from sklearn import preprocessing\n",
    "\n",
    "from sklearn.metrics import confusion_matrix, accuracy_score\n",
    "from sklearn.linear_model import LogisticRegression\n",
    "from sklearn.ensemble import RandomForestClassifier\n",
    "from sklearn.ensemble import RandomForestRegressor\n",
    "from sklearn import tree\n"
   ]
  },
  {
   "cell_type": "code",
   "execution_count": 4,
   "id": "e04c2c85",
   "metadata": {},
   "outputs": [
    {
     "name": "stdout",
     "output_type": "stream",
     "text": [
      "Fitting Random Forest regression on training set\n",
      "\n",
      "\n",
      "Getting Model Accuracy...\n",
      "Training Accuracy =  0.9606471676654517\n",
      "Test Accuracy =  0.8082418764296865\n"
     ]
    }
   ],
   "source": [
    "print(\"Fitting Random Forest regression on training set\")\n",
    "\n",
    "# Fitting the regression model to the dataset\n",
    "regressor = RandomForestRegressor(n_estimators=100, max_depth=200, random_state = 18)\n",
    "regressor.fit(X_train, y_train) # Using ravel() to avoid getting 'DataConversionWarning' warning message\n",
    "\n",
    "#------------------------------------------------------------------------------------------------------------------------#\n",
    "\n",
    "\n",
    "#------------------------------------------------------------------------------------------------------------------------#\n",
    "print(\"\\n\")\n",
    "print(\"Getting Model Accuracy...\")\n",
    "\n",
    "# Get regression details\n",
    "#print(\"Estimated Coefficient = \", regressor.coef_)\n",
    "#print(\"Estimated Intercept = \", regressor.intercept_)\n",
    "print(\"Training Accuracy = \", regressor.score(X_train, y_train))\n",
    "print(\"Test Accuracy = \", regressor.score(X_test, y_test))\n",
    "\n"
   ]
  },
  {
   "cell_type": "code",
   "execution_count": 5,
   "id": "011c558c",
   "metadata": {},
   "outputs": [],
   "source": [
    "import pickle"
   ]
  },
  {
   "cell_type": "code",
   "execution_count": 6,
   "id": "7d2df4ea",
   "metadata": {},
   "outputs": [],
   "source": [
    "filename = 'regressor_3105_1550.sav'\n",
    "pickle.dump(regressor, open(filename, 'wb'))"
   ]
  },
  {
   "cell_type": "code",
   "execution_count": 7,
   "id": "499dce69",
   "metadata": {},
   "outputs": [],
   "source": [
    "y_pred = regressor.predict(X_test)"
   ]
  },
  {
   "cell_type": "code",
   "execution_count": 8,
   "id": "000fe46e",
   "metadata": {},
   "outputs": [
    {
     "data": {
      "text/plain": [
       "[<matplotlib.lines.Line2D at 0x7f7f65571048>,\n",
       " <matplotlib.lines.Line2D at 0x7f7f5d506470>]"
      ]
     },
     "execution_count": 8,
     "metadata": {},
     "output_type": "execute_result"
    },
    {
     "data": {
      "image/png": "[encoded data removed]",
      "text/plain": [
       "<Figure size 432x288 with 1 Axes>"
      ]
     },
     "metadata": {
      "needs_background": "light"
     },
     "output_type": "display_data"
    }
   ],
   "source": [
    "coef = np.polyfit(y_pred,y_test,1)\n",
    "poly1d_fn = np.poly1d(coef) \n",
    "# poly1d_fn is now a function which takes in x and returns an estimate for y\n",
    "\n",
    "plt.plot(y_pred,y_test, 'yo', y_pred, poly1d_fn(y_pred), '--k')"
   ]
  },
  {
   "cell_type": "code",
   "execution_count": 9,
   "id": "320aa099",
   "metadata": {},
   "outputs": [
    {
     "name": "stdout",
     "output_type": "stream",
     "text": [
      "                 0\n",
      "0     8.736639e+05\n",
      "1     4.378263e+06\n",
      "2     1.653226e+09\n",
      "3     5.614744e+06\n",
      "4     6.140812e+06\n",
      "...            ...\n",
      "1215  2.423892e+05\n",
      "1216  1.438765e+10\n",
      "1217  4.762363e+06\n",
      "1218  1.053529e+06\n",
      "1219  1.693823e+06\n",
      "\n",
      "[1220 rows x 1 columns]\n"
     ]
    }
   ],
   "source": [
    "df = pd.DataFrame(data=y_pred)\n",
    "print(df)"
   ]
  },
  {
   "cell_type": "code",
   "execution_count": 10,
   "id": "15a9f0e8",
   "metadata": {},
   "outputs": [],
   "source": [
    "result=pd.concat([ordered_filenames, df], axis=1)"
   ]
  },
  {
   "cell_type": "code",
   "execution_count": 11,
   "id": "28ee9fd7",
   "metadata": {},
   "outputs": [],
   "source": [
    "result.to_csv('y_pred_with_regressor_3105_1550.txt', sep=\"\\t\")"
   ]
  },
  {
   "cell_type": "code",
   "execution_count": null,
   "id": "44584b35",
   "metadata": {},
   "outputs": [],
   "source": []
  }
 ],
 "metadata": {
  "kernelspec": {
   "display_name": "Python 3",
   "language": "python",
   "name": "python3"
  },
  "language_info": {
   "codemirror_mode": {
    "name": "ipython",
    "version": 3
   },
   "file_extension": ".py",
   "mimetype": "text/x-python",
   "name": "python",
   "nbconvert_exporter": "python",
   "pygments_lexer": "ipython3",
   "version": "3.6.8"
  }
 },
 "nbformat": 4,
 "nbformat_minor": 5
}
