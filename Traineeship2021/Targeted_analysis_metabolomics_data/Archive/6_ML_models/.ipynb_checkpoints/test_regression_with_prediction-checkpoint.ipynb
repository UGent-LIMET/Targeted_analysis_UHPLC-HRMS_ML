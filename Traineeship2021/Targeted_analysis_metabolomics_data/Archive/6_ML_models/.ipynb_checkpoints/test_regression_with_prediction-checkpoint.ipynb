{
 "cells": [
  {
   "cell_type": "code",
   "execution_count": 1,
   "id": "9ae6444f",
   "metadata": {},
   "outputs": [],
   "source": [
    "import pickle"
   ]
  },
  {
   "cell_type": "code",
   "execution_count": 99,
   "id": "9252f689",
   "metadata": {},
   "outputs": [
    {
     "name": "stdout",
     "output_type": "stream",
     "text": [
      "58\n",
      "58\n",
      "28\n",
      "28\n",
      "1\n",
      "                                              0                   1\n",
      "0                        200805s091_Pyruvicacid                 0.0\n",
      "1                             200805s063_Indole    4335048.62650069\n",
      "2                 200805s091_LithocholicacidLCA                 0.0\n",
      "3               200805s071_3Methylthio1propanol                 0.0\n",
      "4                  200805s063_Indole3Lacticacid    1424728.02705282\n",
      "5                     200805s071_Dodecanoicacid                 0.0\n",
      "6                 200805s053_L3Phenyllacticacid    540216662.441185\n",
      "7                         200805s091_Putrescine                 0.0\n",
      "8                200805s071_3Hydroxybutyricacid     17509.130265434\n",
      "9                     200805s091_Isovalericacid                 0.0\n",
      "10  200805s053_Isocaproicacid4Methylvalericacid                 0.0\n",
      "11             200805s046_SodiumglycocholateGCA                 0.0\n",
      "12   200805s016_DPantothenicacidhemicalciumsalt                 0.0\n",
      "13             200805s046_SodiumtaurocholateTCA                 0.0\n",
      "14                 200805s071_3Indoleaceticacid      2199347.425452\n",
      "15                        200805s063_Kynurenine    222372.827352705\n",
      "16                         200805s091_Malicacid                 0.0\n",
      "17                      200805s046_Succinicacid    213001477.381275\n",
      "18                         200805s016_DValined8                 0.0\n",
      "19       200805s046_Serotonin5hydroxytryptamine    2020073.97731606\n",
      "20               200805s046_S2Methylbutyricacid     3035086.3186583\n",
      "21                       200805s046_Pyruvicacid    45084917.3408737\n",
      "22              200805s053_Indole3Propionicacid  16472316.279899402\n",
      "23                      200805s065_DLMaleicacid                 0.0\n",
      "24                            200805s053_Indole     6079534.3441443\n",
      "25                        200805s091_Kynurenine  13770.354376416599\n",
      "26                  200805s091_Phenylaceticacid    1062397.32388713\n",
      "27       200805s091_Serotonin5hydroxytryptamine                 0.0\n"
     ]
    }
   ],
   "source": [
    "\n",
    "############Adjustments##############\n",
    "\n",
    "#options\n",
    "PATH = '/media/sf_SF/Stage2021/targetedQE/' \n",
    "OPTION = 'area' # area or label\n",
    "PREDICTION = 'prediction/'\n",
    "PNG = '/media/sf_SF/Stage2021/Projects/MRM_feces/Lactic_acid/bio/resized/'\n",
    "## Adjustments\n",
    "\n",
    "filename_Y_labels = 'total_y_matrix.txt'\n",
    "\n",
    "########################\n",
    "\n",
    "\n",
    "\n",
    "# load libraries\n",
    "import pandas as pd\n",
    "import os\n",
    "import random\n",
    "from PIL import Image\n",
    "import numpy as np\n",
    "\n",
    "\n",
    "#set paths\n",
    "path_data_in = PATH + 'data/input/' + 'MachineLearning/'\n",
    "path_data_out = PATH + 'data/output/' + 'MachineLearning/'\n",
    "path_data_X = PNG  #png's\n",
    "path_data_y = path_data_in + 'Yarrays/' #labels\n",
    "\n",
    "\n",
    "filename = path_data_y + filename_Y_labels\n",
    "\n",
    "y = pd.read_csv(filename, sep = \"\\t\")\n",
    "\n",
    "filenames_X_train = []\n",
    "filenames_X_test = []\n",
    "filenames_prediction = []\n",
    "\n",
    "directory_list = os.listdir(path_data_X)\n",
    "prediction_list = os.listdir(PATH + PREDICTION)\n",
    "\n",
    "random.shuffle(directory_list)\n",
    "os.chdir(path_data_X)\n",
    "\n",
    "i = 0\n",
    "for filename in directory_list:\n",
    "    if \".png\" in filename :\n",
    "        if i % 3 == 0: \n",
    "            filenames_X_test.append(path_data_X + filename)\n",
    "        else:\n",
    "            filenames_X_train.append(path_data_X + filename)\n",
    "        i = i + 1\n",
    "\n",
    "for filename in prediction_list :\n",
    "    filenames_prediction.append(PATH+PREDICTION+filename)   \n",
    "\n",
    "def load_X_if_matched_in_y(filenames_list,y):\n",
    "    all_images_as_array=[]\n",
    "    label=[] \n",
    "    area = []  \n",
    "    global ordered_filenames\n",
    "    ordered_filenames=pd.DataFrame()\n",
    "    \n",
    "    for filename in filenames_list:\n",
    "        filename_wopath = filename.split('resized/')[1]\n",
    "        filename_wopath = filename_wopath.strip(\".png\")\n",
    "\n",
    "        matching_y = y[y.SampleTargetedcombination==filename_wopath]\n",
    "        if len(matching_y) == 1:\n",
    "            label.append(matching_y.iloc[0,5]) \n",
    "            ar = matching_y.iloc[0,3]\n",
    "            area.append(ar)\n",
    "            \n",
    "        \n",
    "            img=Image.open(filename)\n",
    "            np_array = np.asarray(img)\n",
    "\n",
    "            l,b,c = np_array.shape    \n",
    "            np_array = np_array.reshape(l*b*c,)   \n",
    "            all_images_as_array.append(np_array)\n",
    "            \n",
    "            file_area = pd.DataFrame(np.array([[filename_wopath,ar]]))\n",
    "            ordered_filenames = ordered_filenames.append(file_area, ignore_index=True)\n",
    "            \n",
    "            \n",
    "        if len(matching_y) != 1:\n",
    "            continue\n",
    "        \n",
    "    if OPTION == 'area':\n",
    "        option = area\n",
    "    else:\n",
    "        option = label       \n",
    "    \n",
    "    \n",
    "    return np.array(all_images_as_array), np.array(option)\n",
    "\n",
    "def load_prediction(filenames_list):\n",
    "    all_images_as_array=[]\n",
    "\n",
    "    for filename in filenames_list:\n",
    "\n",
    "        img=Image.open(filename)\n",
    "        np_array = np.asarray(img)\n",
    "\n",
    "        l,b,c = np_array.shape    \n",
    "        np_array = np_array.reshape(l*b*c,)   \n",
    "        all_images_as_array.append(np_array)\n",
    "\n",
    "    \n",
    "    return np.array(all_images_as_array)\n",
    "    \n",
    "prediction = load_prediction(filenames_prediction)\n",
    "X_train,y_train = load_X_if_matched_in_y(filenames_X_train, y)\n",
    "X_test, y_test = load_X_if_matched_in_y(filenames_X_test, y)\n",
    "\n",
    "print(len(y_train))\n",
    "print(len(X_train))\n",
    "print(len(y_test))\n",
    "print(len(X_test))\n",
    "print(len(prediction))\n",
    "\n",
    "print(ordered_filenames)"
   ]
  },
  {
   "cell_type": "code",
   "execution_count": 89,
   "id": "19e75120",
   "metadata": {},
   "outputs": [],
   "source": [
    "%matplotlib inline\n",
    "import numpy as np\n",
    "import pandas as pd\n",
    "import matplotlib.pyplot as plt\n",
    "\n",
    "from sklearn import linear_model\n",
    "\n",
    "from sklearn.linear_model import Ridge\n",
    "from sklearn.linear_model import Lasso\n",
    "\n",
    "from sklearn import linear_model, datasets\n",
    "from sklearn import model_selection\n",
    "from sklearn.ensemble import BaggingClassifier\n",
    "from sklearn.tree import DecisionTreeClassifier\n",
    "from sklearn.ensemble import AdaBoostClassifier\n",
    "from sklearn.ensemble import GradientBoostingClassifier\n",
    "\n",
    "from sklearn.model_selection import train_test_split\n",
    "from sklearn.metrics import classification_report\n",
    "from sklearn import preprocessing\n",
    "\n",
    "from sklearn.metrics import confusion_matrix, accuracy_score\n",
    "from sklearn.linear_model import LogisticRegression\n",
    "from sklearn.ensemble import RandomForestClassifier\n",
    "from sklearn.ensemble import RandomForestRegressor\n",
    "from sklearn import tree\n"
   ]
  },
  {
   "cell_type": "code",
   "execution_count": 90,
   "id": "60162fa1",
   "metadata": {
    "scrolled": true
   },
   "outputs": [
    {
     "name": "stdout",
     "output_type": "stream",
     "text": [
      "Fitting Random Forest regression on training set\n",
      "Predicting Values\n",
      "\n",
      "\n",
      "Getting Model Accuracy...\n",
      "Training Accuracy =  0.9803381128891339\n",
      "Test Accuracy =  0.5862545744468679\n",
      "\n",
      "\n",
      "Printing predicted result...\n",
      "Result_of_prediction =  [2.05692182e+09]\n"
     ]
    }
   ],
   "source": [
    "print(\"Fitting Random Forest regression on training set\")\n",
    "\n",
    "# Fitting the regression model to the dataset\n",
    "regressor = RandomForestRegressor(n_estimators=10, max_depth=200, random_state = 18)\n",
    "regressor.fit(X_train, y_train) # Using ravel() to avoid getting 'DataConversionWarning' warning message\n",
    "\n",
    "#------------------------------------------------------------------------------------------------------------------------#\n",
    "print(\"Predicting Values\")\n",
    "\n",
    "# Predicting a new result with regression\n",
    "y_pred = regressor.predict(X_test)\n",
    "\n",
    "test_values = prediction\n",
    "\n",
    "# Applying feature scaling\n",
    "#test_values = sc_X.transform(test_values)\n",
    "\n",
    "# Predicting values of new data\n",
    "new_pred = regressor.predict(test_values)\n",
    "\n",
    "\n",
    "#------------------------------------------------------------------------------------------------------------------------#\n",
    "print(\"\\n\")\n",
    "print(\"Getting Model Accuracy...\")\n",
    "\n",
    "# Get regression details\n",
    "#print(\"Estimated Coefficient = \", regressor.coef_)\n",
    "#print(\"Estimated Intercept = \", regressor.intercept_)\n",
    "print(\"Training Accuracy = \", regressor.score(X_train, y_train))\n",
    "print(\"Test Accuracy = \", regressor.score(X_test, y_test))\n",
    "\n",
    "print(\"\\n\")\n",
    "print(\"Printing predicted result...\")\n",
    "print(\"Result_of_prediction = \", new_pred)"
   ]
  },
  {
   "cell_type": "code",
   "execution_count": 100,
   "id": "04d72b6e",
   "metadata": {},
   "outputs": [],
   "source": [
    "import pickle\n",
    "\n",
    "filename = 'test_saving_regressor.sav'\n",
    "pickle.dump(regressor, open(filename, 'wb'))"
   ]
  },
  {
   "cell_type": "code",
   "execution_count": 91,
   "id": "d4d41ac9",
   "metadata": {},
   "outputs": [
    {
     "data": {
      "text/plain": [
       "[<matplotlib.lines.Line2D at 0x7f5c3c23b668>,\n",
       " <matplotlib.lines.Line2D at 0x7f5c3c23b710>]"
      ]
     },
     "execution_count": 91,
     "metadata": {},
     "output_type": "execute_result"
    },
    {
     "data": {
      "image/png": "[encoded data removed]",
      "text/plain": [
       "<Figure size 432x288 with 1 Axes>"
      ]
     },
     "metadata": {
      "needs_background": "light"
     },
     "output_type": "display_data"
    }
   ],
   "source": [
    "coef = np.polyfit(y_pred,y_test,1)\n",
    "poly1d_fn = np.poly1d(coef) \n",
    "# poly1d_fn is now a function which takes in x and returns an estimate for y\n",
    "\n",
    "plt.plot(y_pred,y_test, 'yo', y_pred, poly1d_fn(y_pred), '--k')"
   ]
  },
  {
   "cell_type": "code",
   "execution_count": 92,
   "id": "4f750a56",
   "metadata": {},
   "outputs": [
    {
     "data": {
      "text/plain": [
       "Text(0, 1, '0.8114924660184974')"
      ]
     },
     "execution_count": 92,
     "metadata": {},
     "output_type": "execute_result"
    },
    {
     "data": {
      "image/png": "[encoded data removed]",
      "text/plain": [
       "<Figure size 432x288 with 1 Axes>"
      ]
     },
     "metadata": {
      "needs_background": "light"
     },
     "output_type": "display_data"
    }
   ],
   "source": [
    "import scipy as sp\n",
    "linreg = sp.stats.linregress(y_test, y_pred)\n",
    "\n",
    "plt.plot(y_test, linreg.intercept + linreg.slope*y_pred, 'ro')\n",
    "\n",
    "plt.text(0, 1, linreg.rvalue)"
   ]
  },
  {
   "cell_type": "code",
   "execution_count": 93,
   "id": "6bd02b8b",
   "metadata": {},
   "outputs": [
    {
     "name": "stdout",
     "output_type": "stream",
     "text": [
      "0.8114924660184974\n"
     ]
    }
   ],
   "source": [
    "from scipy import stats\n",
    "slope, intercept, r_value, p_value, std_err = stats.linregress(y_pred, y_test)\n",
    "print(r_value)"
   ]
  },
  {
   "cell_type": "code",
   "execution_count": 94,
   "id": "1a39b24f",
   "metadata": {},
   "outputs": [
    {
     "name": "stdout",
     "output_type": "stream",
     "text": [
      "               0\n",
      "0   1.407145e+10\n",
      "1   1.774294e+08\n",
      "2   1.506218e+10\n",
      "3   1.101832e+10\n",
      "4   5.684682e+08\n",
      "5   6.293972e+05\n",
      "6   8.435345e+08\n",
      "7   4.543794e+08\n",
      "8   4.979896e+08\n",
      "9   8.988996e+08\n",
      "10  1.389879e+10\n",
      "11  1.139093e+10\n",
      "12  1.737503e+10\n",
      "13  2.583584e+09\n",
      "14  9.965605e+05\n",
      "15  8.849890e+05\n",
      "16  4.324823e+08\n",
      "17  5.727011e+08\n"
     ]
    }
   ],
   "source": [
    "df = pd.DataFrame(data=y_pred)\n",
    "print(df)"
   ]
  },
  {
   "cell_type": "code",
   "execution_count": 95,
   "id": "cffcc577",
   "metadata": {},
   "outputs": [],
   "source": [
    "result=pd.concat([ordered_filenames, df], axis=1)"
   ]
  },
  {
   "cell_type": "code",
   "execution_count": 101,
   "id": "5fd637f1",
   "metadata": {},
   "outputs": [
    {
     "name": "stdout",
     "output_type": "stream",
     "text": [
      "                             0                   1             0\n",
      "0       200929s048_LLacticacid    1083973228.58707  1.407145e+10\n",
      "1   200929s048_Lalanined3333D3                 0.0  1.774294e+08\n",
      "2       200929s043_LLacticacid    14515731302.3898  1.506218e+10\n",
      "3       200929s011_LLacticacid    12500422492.4549  1.101832e+10\n",
      "4     200929s041_Dopamined4HCL     586637284.62658  5.684682e+08\n",
      "5   200929s014_Lalanined3333D3    424384.679489579  6.293972e+05\n",
      "6     200929s014_Dopamined4HCL    597629186.681458  8.435345e+08\n",
      "7     200929s039_Dopamined4HCL    565346437.426464  4.543794e+08\n",
      "8   200929s016_Lalanined3333D3    1709990.86732862  4.979896e+08\n",
      "9     200929s016_Dopamined4HCL    592851657.218494  8.988996e+08\n",
      "10      200929s012_LLacticacid    13701643881.0486  1.389879e+10\n",
      "11      200929s002_LLacticacid     605762757.71143  1.139093e+10\n",
      "12      200929s046_LLacticacid    20380882542.2286  1.737503e+10\n",
      "13    200929s002_Dopamined4HCL  3351540725.7382803  2.583584e+09\n",
      "14  200929s045_Lalanined3333D3  100526.91729363901  9.965605e+05\n",
      "15  200929s043_Lalanined3333D3  428008.97397119104  8.849890e+05\n",
      "16  200929s011_Lalanined3333D3                 0.0  4.324823e+08\n",
      "17    200929s046_Dopamined4HCL    554944035.178193  5.727011e+08\n"
     ]
    }
   ],
   "source": [
    "print(result)"
   ]
  },
  {
   "cell_type": "code",
   "execution_count": 69,
   "id": "44bfba08",
   "metadata": {},
   "outputs": [],
   "source": [
    "result.to_csv('png_with_prediction_area.txt', sep=\"\\t\")"
   ]
  },
  {
   "cell_type": "code",
   "execution_count": null,
   "id": "a69e274b",
   "metadata": {},
   "outputs": [],
   "source": []
  }
 ],
 "metadata": {
  "kernelspec": {
   "display_name": "Python 3",
   "language": "python",
   "name": "python3"
  },
  "language_info": {
   "codemirror_mode": {
    "name": "ipython",
    "version": 3
   },
   "file_extension": ".py",
   "mimetype": "text/x-python",
   "name": "python",
   "nbconvert_exporter": "python",
   "pygments_lexer": "ipython3",
   "version": "3.6.8"
  }
 },
 "nbformat": 4,
 "nbformat_minor": 5
}
