{
 "cells": [
  {
   "cell_type": "code",
   "execution_count": null,
   "id": "9ae6444f",
   "metadata": {},
   "outputs": [],
   "source": [
    "import pickle"
   ]
  },
  {
   "cell_type": "code",
   "execution_count": 23,
   "id": "9252f689",
   "metadata": {},
   "outputs": [
    {
     "name": "stdout",
     "output_type": "stream",
     "text": [
      "60\n",
      "60\n",
      "26\n",
      "26\n",
      "                                              0                   1\n",
      "0                     200805s071_Dodecanoicacid                 0.0\n",
      "1                         200805s063_Kynurenine    222372.827352705\n",
      "2                200805s091_S2Methylbutyricacid                 0.0\n",
      "3                         200805s046_Putrescine    1055615.35602438\n",
      "4                  200805s065_5Aminovalericacid    1546339640.04834\n",
      "5               200805s063_Indole3Propionicacid    13455226.8972164\n",
      "6                         200805s091_Putrescine                 0.0\n",
      "7                         200805s046_Spermidine    81140687.4160192\n",
      "8           200805s065_ChenodeoxycholicacidCDCA    294842771.969598\n",
      "9                             200805s063_Indole    4335048.62650069\n",
      "10              200805s071_3Methylthio1propanol                 0.0\n",
      "11                200805s063_L3Phenyllacticacid    145145882.124192\n",
      "12              200805s046_Skatole3methylindole    1214352.31753401\n",
      "13                      200805s065_CholicacidCA    54368541.8029164\n",
      "14                         200805s016_DValined8                 0.0\n",
      "15                 200805s053_Indole3Lacticacid    627104.108272895\n",
      "16           200805s063_Indoleethanoltryptophol    753567.136660913\n",
      "17                200805s071_DeoxycholicacidDCA    502474.578412776\n",
      "18                        200805s053_Kynurenine    293127.478772511\n",
      "19               200805s071_3indoleaceticacidd5  42143760.574379705\n",
      "20  200805s091_Isocaproicacid4Methylvalericacid                 0.0\n",
      "21                      200805s071_DLMaleicacid                 0.0\n",
      "22             200805s046_SodiumtaurocholateTCA                 0.0\n",
      "23       200805s046_SodiumtaurolithocholateTLCA    32209.0648968768\n",
      "24       200805s091_Serotonin5hydroxytryptamine                 0.0\n",
      "25                  200805s046_Phenylaceticacid      251607.3437757\n",
      "26\n"
     ]
    }
   ],
   "source": [
    "\n",
    "############Adjustments##############\n",
    "\n",
    "#options\n",
    "PATH = '/media/sf_SF/Stage2021/targetedQE/' \n",
    "OPTION = 'label' # area or label\n",
    "\n",
    "\n",
    "## Adjustments\n",
    "\n",
    "filename_Y_labels = 'total_y_matrix.txt'\n",
    "\n",
    "########################\n",
    "\n",
    "\n",
    "\n",
    "# load libraries\n",
    "import pandas as pd\n",
    "import os\n",
    "import random\n",
    "from PIL import Image\n",
    "import numpy as np\n",
    "\n",
    "\n",
    "#set paths\n",
    "path_data_in = PATH + 'data/input/' + 'MachineLearning/'\n",
    "path_data_out = PATH + 'data/output/' + 'MachineLearning/'\n",
    "path_data_X = path_data_in + 'Xarrays_test/' #png's\n",
    "path_data_y = path_data_in + 'Yarrays/' #labels\n",
    "\n",
    "\n",
    "filename = path_data_y + filename_Y_labels\n",
    "\n",
    "y = pd.read_csv(filename, sep = \"\\t\")\n",
    "\n",
    "filenames_X_train = []\n",
    "filenames_X_test = []\n",
    "directory_list = os.listdir(path_data_X)\n",
    "random.shuffle(directory_list)\n",
    "os.chdir(path_data_X)\n",
    "\n",
    "i = 0\n",
    "for filename in directory_list:\n",
    "    if \".png\" in filename :\n",
    "        if i % 3 == 0: \n",
    "            filenames_X_test.append(path_data_X + filename)\n",
    "        else:\n",
    "            filenames_X_train.append(path_data_X + filename)\n",
    "        i = i + 1\n",
    "    \n",
    "def load_X_if_matched_in_y(filenames_list, y):\n",
    "    all_images_as_array=[]\n",
    "    label=[] \n",
    "    area = []   \n",
    "    global ordered_filenames\n",
    "    ordered_filenames=pd.DataFrame()\n",
    "    \n",
    "    for filename in filenames_list:\n",
    "        filename_wopath = filename.split('Xarrays_test/')[1]\n",
    "        filename_wopath = filename_wopath.strip(\".png\")\n",
    "\n",
    "        matching_y = y[y.SampleTargetedcombination==filename_wopath]\n",
    "        if len(matching_y) == 1:\n",
    "            label.append(matching_y.iloc[0,5]) \n",
    "            ar = matching_y.iloc[0,3]\n",
    "            area.append(ar)\n",
    "        \n",
    "            img=Image.open(filename)\n",
    "            np_array = np.asarray(img)\n",
    "\n",
    "            l,b,c = np_array.shape    \n",
    "            np_array = np_array.reshape(l*b*c,)   \n",
    "            all_images_as_array.append(np_array)\n",
    "            \n",
    "            file_area = pd.DataFrame(np.array([[filename_wopath,ar]]))\n",
    "            ordered_filenames = ordered_filenames.append(file_area, ignore_index=True)\n",
    "            \n",
    "            \n",
    "        if len(matching_y) != 1:\n",
    "            continue\n",
    "        \n",
    "    if OPTION == 'area':\n",
    "        option = area\n",
    "    else:\n",
    "        option = label       \n",
    "    return np.array(all_images_as_array), np.array(option)\n",
    "    \n",
    "X_train,y_train = load_X_if_matched_in_y(filenames_X_train, y)\n",
    "X_test, y_test = load_X_if_matched_in_y(filenames_X_test, y)\n",
    "\n",
    "print(len(y_train))\n",
    "print(len(X_train))\n",
    "print(len(y_test))\n",
    "print(len(X_test))\n",
    "\n",
    "print(ordered_filenames)\n",
    "print(len(ordered_filenames))"
   ]
  },
  {
   "cell_type": "code",
   "execution_count": null,
   "id": "19e75120",
   "metadata": {},
   "outputs": [],
   "source": [
    "%matplotlib inline\n",
    "import numpy as np\n",
    "import pandas as pd\n",
    "import matplotlib.pyplot as plt\n",
    "\n",
    "from sklearn import linear_model\n",
    "\n",
    "from sklearn.linear_model import Ridge\n",
    "from sklearn.linear_model import Lasso\n",
    "\n",
    "from sklearn import linear_model, datasets\n",
    "from sklearn import model_selection\n",
    "from sklearn.ensemble import BaggingClassifier\n",
    "from sklearn.tree import DecisionTreeClassifier\n",
    "from sklearn.ensemble import AdaBoostClassifier\n",
    "from sklearn.ensemble import GradientBoostingClassifier\n",
    "\n",
    "from sklearn.model_selection import train_test_split\n",
    "from sklearn.metrics import classification_report\n",
    "from sklearn import preprocessing\n",
    "\n",
    "from sklearn.metrics import confusion_matrix, accuracy_score\n",
    "from sklearn.linear_model import LogisticRegression\n",
    "from sklearn.ensemble import RandomForestClassifier\n",
    "from sklearn.ensemble import RandomForestRegressor\n",
    "from sklearn import tree\n"
   ]
  },
  {
   "cell_type": "code",
   "execution_count": null,
   "id": "e04c2c85",
   "metadata": {},
   "outputs": [],
   "source": [
    "print(\"Fitting Random Forest regression on training set\")\n",
    "\n",
    "# Fitting the regression model to the dataset\n",
    "regressor = RandomForestRegressor(n_estimators=200, max_depth=200, random_state = 18)\n",
    "regressor.fit(X_train, y_train) # Using ravel() to avoid getting 'DataConversionWarning' warning message\n",
    "\n",
    "#------------------------------------------------------------------------------------------------------------------------#\n",
    "\n",
    "\n",
    "#------------------------------------------------------------------------------------------------------------------------#\n",
    "print(\"\\n\")\n",
    "print(\"Getting Model Accuracy...\")\n",
    "\n",
    "# Get regression details\n",
    "#print(\"Estimated Coefficient = \", regressor.coef_)\n",
    "#print(\"Estimated Intercept = \", regressor.intercept_)\n",
    "print(\"Training Accuracy = \", regressor.score(X_train, y_train))\n",
    "print(\"Test Accuracy = \", regressor.score(X_test, y_test))\n",
    "\n"
   ]
  },
  {
   "cell_type": "code",
   "execution_count": null,
   "id": "011c558c",
   "metadata": {},
   "outputs": [],
   "source": [
    "import pickle"
   ]
  },
  {
   "cell_type": "code",
   "execution_count": null,
   "id": "7d2df4ea",
   "metadata": {},
   "outputs": [],
   "source": [
    "filename = 'regressor_3105_7337.sav'\n",
    "pickle.dump(regressor, open(filename, 'wb'))"
   ]
  },
  {
   "cell_type": "code",
   "execution_count": null,
   "id": "7f28964c",
   "metadata": {},
   "outputs": [],
   "source": [
    "y_pred = regressor.predict(X_test)"
   ]
  },
  {
   "cell_type": "code",
   "execution_count": null,
   "id": "000fe46e",
   "metadata": {},
   "outputs": [],
   "source": [
    "coef = np.polyfit(y_pred,y_test,1)\n",
    "poly1d_fn = np.poly1d(coef) \n",
    "# poly1d_fn is now a function which takes in x and returns an estimate for y\n",
    "\n",
    "plt.plot(y_pred,y_test, 'yo', y_pred, poly1d_fn(y_pred), '--k')"
   ]
  },
  {
   "cell_type": "code",
   "execution_count": null,
   "id": "26510fbf",
   "metadata": {},
   "outputs": [],
   "source": [
    "df = pd.DataFrame(data=y_pred)\n",
    "print(df)"
   ]
  },
  {
   "cell_type": "code",
   "execution_count": null,
   "id": "e6541f3c",
   "metadata": {},
   "outputs": [],
   "source": [
    "result=pd.concat([ordered_filenames, df], axis=1)"
   ]
  },
  {
   "cell_type": "code",
   "execution_count": null,
   "id": "1b3b9406",
   "metadata": {},
   "outputs": [],
   "source": [
    "result.to_csv('y_pred_with_regressor_3105_7337.txt', sep=\"\\t\")"
   ]
  },
  {
   "cell_type": "code",
   "execution_count": null,
   "id": "18d20c48",
   "metadata": {},
   "outputs": [],
   "source": []
  }
 ],
 "metadata": {
  "kernelspec": {
   "display_name": "Python 3",
   "language": "python",
   "name": "python3"
  },
  "language_info": {
   "codemirror_mode": {
    "name": "ipython",
    "version": 3
   },
   "file_extension": ".py",
   "mimetype": "text/x-python",
   "name": "python",
   "nbconvert_exporter": "python",
   "pygments_lexer": "ipython3",
   "version": "3.6.8"
  }
 },
 "nbformat": 4,
 "nbformat_minor": 5
}
