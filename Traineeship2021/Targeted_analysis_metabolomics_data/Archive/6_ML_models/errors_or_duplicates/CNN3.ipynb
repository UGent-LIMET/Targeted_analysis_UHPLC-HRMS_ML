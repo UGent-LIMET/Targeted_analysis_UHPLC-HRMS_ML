{
 "cells": [
  {
   "cell_type": "code",
   "execution_count": 1,
   "id": "dfdb5e8b",
   "metadata": {},
   "outputs": [],
   "source": [
    "import tensorflow as tf\n",
    "\n",
    "from tensorflow.keras import datasets, layers, models\n",
    "import matplotlib.pyplot as plt\n",
    "\n",
    "%matplotlib inline\n",
    "import os\n",
    "os.environ[\"KERAS_BACKEND\"] = \"tensorflow\"\n",
    "import numpy as np\n",
    "import pandas as pd\n",
    "import matplotlib.pyplot as plt\n",
    "\n",
    "from sklearn.model_selection import train_test_split\n",
    "from sklearn.metrics import classification_report\n",
    "from sklearn.metrics import confusion_matrix, accuracy_score\n",
    "from sklearn.preprocessing import OneHotEncoder\n",
    "from sklearn import preprocessing\n",
    "\n",
    "import matplotlib.image as mpimg\n",
    "from skimage.io import imread, imshow\n",
    "from skimage import data, color, io, filters, morphology,transform, exposure, feature, util\n",
    "from scipy import ndimage\n",
    "import tensorflow as tf\n",
    "#importeer Tensorflow namespaces\n",
    "from tensorflow.keras.models import Sequential\n",
    "from tensorflow.keras.layers import Activation\n",
    "from tensorflow.keras.optimizers import SGD\n",
    "from tensorflow.keras.layers import Dense, Dropout, Flatten, BatchNormalization\n",
    "from tensorflow.keras.layers import Conv2D, MaxPooling2D\n",
    "from tensorflow.keras import backend as K\n",
    "from tensorflow.keras.utils import to_categorical\n",
    "from tensorflow.keras.preprocessing import image\n",
    "#K.set_image_dim_ordering('tf')\n",
    "\n",
    "###### Voor Tensorflow-GPU ########\n",
    "\n",
    "#physical_devices = tf.config.experimental.list_physical_devices('GPU')\n",
    "#tf.config.experimental.set_memory_growth(physical_devices[0], True)\n",
    "import tensorflow as tf\n",
    "from tensorflow import keras\n",
    "from tensorflow.keras.models import Sequential\n",
    "from tensorflow.keras.layers import Activation, Dense, Flatten, BatchNormalization, Conv2D, MaxPool2D\n",
    "from tensorflow.keras.optimizers import Adam\n",
    "from tensorflow.keras.metrics import categorical_crossentropy\n",
    "from sklearn.metrics import confusion_matrix\n",
    "from tensorflow.keras.preprocessing.image import ImageDataGenerator\n",
    "import numpy as np\n",
    "import itertools\n",
    "import os\n",
    "import random\n",
    "import matplotlib.pyplot as plt\n",
    "%matplotlib inline"
   ]
  },
  {
   "cell_type": "code",
   "execution_count": 13,
   "id": "1dcc06e1",
   "metadata": {
    "scrolled": false
   },
   "outputs": [
    {
     "name": "stdout",
     "output_type": "stream",
     "text": [
      "44\n",
      "23\n",
      "7\n",
      "7\n",
      "2\n",
      "2\n"
     ]
    }
   ],
   "source": [
    "\n",
    "############Adjustments##############\n",
    "\n",
    "#options\n",
    "PATH_DI06C001 = '/media/sf_SF/Stage2021/targetedQE/' \n",
    "\n",
    "## Adjustments\n",
    "path = PATH_DI06C001\n",
    "\n",
    "filename_Y_labels = 'total_y_matrix_with_binary_label.txt'\n",
    "\n",
    "########################\n",
    "\n",
    "\n",
    "\n",
    "# load libraries\n",
    "import pandas as pd\n",
    "import os\n",
    "import random\n",
    "from PIL import Image\n",
    "import numpy as np\n",
    "\n",
    "\n",
    "#set paths\n",
    "path_data_in = path + 'data/input/' + 'MachineLearning/'\n",
    "path_data_out = path + 'data/output/' + 'MachineLearning/'\n",
    "path_data_X = path_data_in + 'Xarrays_test/' #png's\n",
    "path_data_y = path_data_in + 'Yarrays/' #labels\n",
    "\n",
    "\n",
    "\n",
    "## Y\n",
    "#load all Y labels together\n",
    "filename = path_data_y + filename_Y_labels\n",
    "# print(filename)\n",
    "\n",
    "y = pd.read_csv(filename, sep='\\t')\n",
    "\n",
    "\n",
    "\n",
    "## X\n",
    "#list all X files and devide in train OR test folder\n",
    "filenames_X_train = []\n",
    "filenames_X_test = []\n",
    "directory_list = os.listdir(path_data_X)\n",
    "# print(directory_list)\n",
    "\n",
    "#random order list with filenames\n",
    "random.shuffle(directory_list)\n",
    "\n",
    "i = 0\n",
    "for filename in directory_list:\n",
    "    #print (filename) #all files, folders\n",
    "    #print (i)\n",
    "    if \".png\" in filename:\n",
    "        #print (filename)\n",
    "        if i % 3 == 0: \n",
    "            #1/3th of data is test set, rest in train\n",
    "            #print(i)\n",
    "            filenames_X_test.append(path_data_X + filename)\n",
    "        else:\n",
    "            filenames_X_train.append(path_data_X + filename)\n",
    "        i = i + 1\n",
    "        \n",
    " #check ok? 70-30 devide train - test? ok     \n",
    "print(len(filenames_X_train))\n",
    "print(len(filenames_X_test))\n",
    "\n",
    "\n",
    "## load X data + Merge per train/test X's with Y to S1\n",
    "#keep only non unique values\n",
    "\n",
    "\n",
    "def load_X_if_matched_in_y(filenames_list, y):\n",
    "    all_images_as_array=[]\n",
    "    label=[]    \n",
    "    # match = 0\n",
    "    # no_match = 0\n",
    "    for filename in filenames_list:\n",
    "        #print(filename)\n",
    "        #filename = filenames_X_train[3]\n",
    "        filename_wopath = filename.split('Xarrays_test/')[1]\n",
    "        #filename_wopath = filename_wopath[:-4] #wo .png todo, see same x/y !!!\n",
    "        # print(filename_wopath)\n",
    "    \n",
    "        matching_y = y[y.png==filename_wopath]\n",
    "        if len(matching_y) == 1:\n",
    "            label.append(matching_y.iloc[0,2]) #1st elem contains string NF/FOUND\n",
    "            \n",
    "            #load figure correctly as array [[], [], []]]\n",
    "            img=Image.open(filename)\n",
    "            np_array = np.asarray(img)\n",
    "            l,b,c = np_array.shape    \n",
    "            np_array = np_array.reshape(l*b*c,)   \n",
    "            all_images_as_array.append(np_array)\n",
    "            # match = match + 1\n",
    "            \n",
    "        if len(matching_y) != 1:\n",
    "            # print(\"no or multiple match(es) in y found for: \" + filename)\n",
    "            # no_match = no_match + 1\n",
    "            continue\n",
    "\n",
    "    return np.array(all_images_as_array), np.array(label)\n",
    "    \n",
    "\n",
    "#if re.match(filename_wopath, y.Name[0]): #todo search in volled colom, ev niet via regress want wo .png moet volled zelfde\n",
    "        \n",
    "\n",
    "\n",
    "X_train,y_train = load_X_if_matched_in_y(filenames_X_train, y)\n",
    "X_test, y_test = load_X_if_matched_in_y(filenames_X_test, y)\n",
    "\n",
    "\n",
    "print(len(X_train))\n",
    "print(len(y_train))\n",
    "print(len(X_test))\n",
    "print(len(y_test))\n",
    "\n"
   ]
  },
  {
   "cell_type": "code",
   "execution_count": 15,
   "id": "89bc7ff2",
   "metadata": {},
   "outputs": [],
   "source": [
    "# Reshape\n",
    "X_train = X_train.reshape((len(X_train),64, 64,4))\n",
    "X_test = X_test.reshape((len(X_test),64, 64,4))"
   ]
  },
  {
   "cell_type": "code",
   "execution_count": 16,
   "id": "32068583",
   "metadata": {},
   "outputs": [],
   "source": [
    "model = models.Sequential()\n",
    "model.add(layers.Conv2D(64, (3, 3), activation='relu', input_shape=(64, 64, 4)))\n",
    "model.add(layers.MaxPooling2D((2, 2)))\n",
    "model.add(layers.Conv2D(64, (3, 3), activation='relu'))\n",
    "model.add(layers.MaxPooling2D((2, 2)))\n",
    "model.add(layers.Conv2D(64, (3, 3), activation='relu'))"
   ]
  },
  {
   "cell_type": "code",
   "execution_count": 17,
   "id": "bbad7a44",
   "metadata": {
    "scrolled": true
   },
   "outputs": [
    {
     "name": "stdout",
     "output_type": "stream",
     "text": [
      "Model: \"sequential_1\"\n",
      "_________________________________________________________________\n",
      "Layer (type)                 Output Shape              Param #   \n",
      "=================================================================\n",
      "conv2d_3 (Conv2D)            (None, 62, 62, 64)        2368      \n",
      "_________________________________________________________________\n",
      "max_pooling2d_2 (MaxPooling2 (None, 31, 31, 64)        0         \n",
      "_________________________________________________________________\n",
      "conv2d_4 (Conv2D)            (None, 29, 29, 64)        36928     \n",
      "_________________________________________________________________\n",
      "max_pooling2d_3 (MaxPooling2 (None, 14, 14, 64)        0         \n",
      "_________________________________________________________________\n",
      "conv2d_5 (Conv2D)            (None, 12, 12, 64)        36928     \n",
      "=================================================================\n",
      "Total params: 76,224\n",
      "Trainable params: 76,224\n",
      "Non-trainable params: 0\n",
      "_________________________________________________________________\n"
     ]
    }
   ],
   "source": [
    "model.summary()"
   ]
  },
  {
   "cell_type": "code",
   "execution_count": 18,
   "id": "01738724",
   "metadata": {},
   "outputs": [],
   "source": [
    "model.add(layers.Flatten())\n",
    "model.add(layers.Dense(64, activation='sigmoid'))\n",
    "model.add(layers.Dense(10))"
   ]
  },
  {
   "cell_type": "code",
   "execution_count": 19,
   "id": "5b530748",
   "metadata": {
    "scrolled": true
   },
   "outputs": [
    {
     "name": "stdout",
     "output_type": "stream",
     "text": [
      "Model: \"sequential_1\"\n",
      "_________________________________________________________________\n",
      "Layer (type)                 Output Shape              Param #   \n",
      "=================================================================\n",
      "conv2d_3 (Conv2D)            (None, 62, 62, 64)        2368      \n",
      "_________________________________________________________________\n",
      "max_pooling2d_2 (MaxPooling2 (None, 31, 31, 64)        0         \n",
      "_________________________________________________________________\n",
      "conv2d_4 (Conv2D)            (None, 29, 29, 64)        36928     \n",
      "_________________________________________________________________\n",
      "max_pooling2d_3 (MaxPooling2 (None, 14, 14, 64)        0         \n",
      "_________________________________________________________________\n",
      "conv2d_5 (Conv2D)            (None, 12, 12, 64)        36928     \n",
      "_________________________________________________________________\n",
      "flatten_1 (Flatten)          (None, 9216)              0         \n",
      "_________________________________________________________________\n",
      "dense_2 (Dense)              (None, 64)                589888    \n",
      "_________________________________________________________________\n",
      "dense_3 (Dense)              (None, 10)                650       \n",
      "=================================================================\n",
      "Total params: 666,762\n",
      "Trainable params: 666,762\n",
      "Non-trainable params: 0\n",
      "_________________________________________________________________\n"
     ]
    }
   ],
   "source": [
    "model.summary()"
   ]
  },
  {
   "cell_type": "code",
   "execution_count": 20,
   "id": "69d9abb0",
   "metadata": {},
   "outputs": [
    {
     "name": "stdout",
     "output_type": "stream",
     "text": [
      "Epoch 1/70\n",
      "1/1 [==============================] - 2s 2s/step - loss: 3.8990 - accuracy: 0.0000e+00 - val_loss: 2.9165 - val_accuracy: 0.0000e+00\n",
      "Epoch 2/70\n",
      "1/1 [==============================] - 0s 255ms/step - loss: 3.1464 - accuracy: 0.0000e+00 - val_loss: 2.9417 - val_accuracy: 0.0000e+00\n",
      "Epoch 3/70\n",
      "1/1 [==============================] - 0s 382ms/step - loss: 2.9164 - accuracy: 0.0000e+00 - val_loss: 2.6672 - val_accuracy: 0.0000e+00\n",
      "Epoch 4/70\n",
      "1/1 [==============================] - 0s 289ms/step - loss: 2.5815 - accuracy: 0.0000e+00 - val_loss: 2.5052 - val_accuracy: 0.0000e+00\n",
      "Epoch 5/70\n",
      "1/1 [==============================] - 0s 260ms/step - loss: 2.4150 - accuracy: 0.0000e+00 - val_loss: 2.4391 - val_accuracy: 0.0000e+00\n",
      "Epoch 6/70\n",
      "1/1 [==============================] - 0s 317ms/step - loss: 2.3230 - accuracy: 0.0000e+00 - val_loss: 2.3824 - val_accuracy: 0.0000e+00\n",
      "Epoch 7/70\n",
      "1/1 [==============================] - 0s 209ms/step - loss: 2.2664 - accuracy: 0.0000e+00 - val_loss: 2.3261 - val_accuracy: 0.0000e+00\n",
      "Epoch 8/70\n",
      "1/1 [==============================] - 0s 283ms/step - loss: 2.2103 - accuracy: 0.0000e+00 - val_loss: 2.2705 - val_accuracy: 0.0000e+00\n",
      "Epoch 9/70\n",
      "1/1 [==============================] - 0s 323ms/step - loss: 2.1547 - accuracy: 0.0000e+00 - val_loss: 2.2155 - val_accuracy: 0.0000e+00\n",
      "Epoch 10/70\n",
      "1/1 [==============================] - 0s 289ms/step - loss: 2.0999 - accuracy: 0.0000e+00 - val_loss: 2.2315 - val_accuracy: 0.0000e+00\n",
      "Epoch 11/70\n",
      "1/1 [==============================] - 0s 300ms/step - loss: 2.0099 - accuracy: 0.0000e+00 - val_loss: 2.1778 - val_accuracy: 0.0000e+00\n",
      "Epoch 12/70\n",
      "1/1 [==============================] - 0s 266ms/step - loss: 1.9565 - accuracy: 0.0000e+00 - val_loss: 2.1249 - val_accuracy: 0.0000e+00\n",
      "Epoch 13/70\n",
      "1/1 [==============================] - 0s 273ms/step - loss: 1.9038 - accuracy: 0.0000e+00 - val_loss: 2.0730 - val_accuracy: 0.0000e+00\n",
      "Epoch 14/70\n",
      "1/1 [==============================] - 0s 220ms/step - loss: 1.8522 - accuracy: 0.0000e+00 - val_loss: 2.0221 - val_accuracy: 0.0000e+00\n",
      "Epoch 15/70\n",
      "1/1 [==============================] - 0s 236ms/step - loss: 1.8016 - accuracy: 0.0000e+00 - val_loss: 1.9723 - val_accuracy: 0.0000e+00\n",
      "Epoch 16/70\n",
      "1/1 [==============================] - 0s 334ms/step - loss: 1.7522 - accuracy: 0.0000e+00 - val_loss: 1.9238 - val_accuracy: 0.0000e+00\n",
      "Epoch 17/70\n",
      "1/1 [==============================] - 0s 280ms/step - loss: 1.7041 - accuracy: 0.0000e+00 - val_loss: 1.8766 - val_accuracy: 0.0000e+00\n",
      "Epoch 18/70\n",
      "1/1 [==============================] - 0s 222ms/step - loss: 1.6572 - accuracy: 0.0000e+00 - val_loss: 1.8307 - val_accuracy: 0.0000e+00\n",
      "Epoch 19/70\n",
      "1/1 [==============================] - 0s 237ms/step - loss: 1.6118 - accuracy: 0.0000e+00 - val_loss: 1.7862 - val_accuracy: 0.5000\n",
      "Epoch 20/70\n",
      "1/1 [==============================] - 0s 271ms/step - loss: 1.5677 - accuracy: 0.7143 - val_loss: 1.7431 - val_accuracy: 0.5000\n",
      "Epoch 21/70\n",
      "1/1 [==============================] - 0s 177ms/step - loss: 1.5250 - accuracy: 0.7143 - val_loss: 1.7014 - val_accuracy: 0.5000\n",
      "Epoch 22/70\n",
      "1/1 [==============================] - 0s 296ms/step - loss: 1.4839 - accuracy: 0.7143 - val_loss: 1.6612 - val_accuracy: 0.5000\n",
      "Epoch 23/70\n",
      "1/1 [==============================] - 0s 237ms/step - loss: 1.4442 - accuracy: 0.7143 - val_loss: 1.6225 - val_accuracy: 0.5000\n",
      "Epoch 24/70\n",
      "1/1 [==============================] - 0s 309ms/step - loss: 1.4060 - accuracy: 0.7143 - val_loss: 1.5853 - val_accuracy: 0.5000\n",
      "Epoch 25/70\n",
      "1/1 [==============================] - 0s 230ms/step - loss: 1.3693 - accuracy: 0.7143 - val_loss: 1.5496 - val_accuracy: 0.5000\n",
      "Epoch 26/70\n",
      "1/1 [==============================] - 0s 237ms/step - loss: 1.3340 - accuracy: 0.7143 - val_loss: 1.5153 - val_accuracy: 0.5000\n",
      "Epoch 27/70\n",
      "1/1 [==============================] - 0s 213ms/step - loss: 1.3003 - accuracy: 0.7143 - val_loss: 1.4825 - val_accuracy: 0.5000\n",
      "Epoch 28/70\n",
      "1/1 [==============================] - 0s 259ms/step - loss: 1.2680 - accuracy: 0.7143 - val_loss: 1.4512 - val_accuracy: 0.5000\n",
      "Epoch 29/70\n",
      "1/1 [==============================] - 0s 204ms/step - loss: 1.2372 - accuracy: 0.7143 - val_loss: 1.4212 - val_accuracy: 0.5000\n",
      "Epoch 30/70\n",
      "1/1 [==============================] - 0s 208ms/step - loss: 1.2078 - accuracy: 0.7143 - val_loss: 1.3926 - val_accuracy: 0.5000\n",
      "Epoch 31/70\n",
      "1/1 [==============================] - 0s 211ms/step - loss: 1.1798 - accuracy: 0.7143 - val_loss: 1.3654 - val_accuracy: 0.5000\n",
      "Epoch 32/70\n",
      "1/1 [==============================] - 0s 348ms/step - loss: 1.1532 - accuracy: 0.7143 - val_loss: 1.3395 - val_accuracy: 0.5000\n",
      "Epoch 33/70\n",
      "1/1 [==============================] - 0s 196ms/step - loss: 1.1278 - accuracy: 0.7143 - val_loss: 1.3149 - val_accuracy: 0.5000\n",
      "Epoch 34/70\n",
      "1/1 [==============================] - 0s 167ms/step - loss: 1.1038 - accuracy: 0.7143 - val_loss: 1.2915 - val_accuracy: 0.5000\n",
      "Epoch 35/70\n",
      "1/1 [==============================] - 0s 177ms/step - loss: 1.0809 - accuracy: 0.7143 - val_loss: 1.2693 - val_accuracy: 0.5000\n",
      "Epoch 36/70\n",
      "1/1 [==============================] - 0s 196ms/step - loss: 1.0593 - accuracy: 0.7143 - val_loss: 1.2482 - val_accuracy: 0.5000\n",
      "Epoch 37/70\n",
      "1/1 [==============================] - 0s 178ms/step - loss: 1.0388 - accuracy: 0.7143 - val_loss: 1.2283 - val_accuracy: 0.5000\n",
      "Epoch 38/70\n",
      "1/1 [==============================] - 0s 255ms/step - loss: 1.0194 - accuracy: 0.7143 - val_loss: 1.2094 - val_accuracy: 0.5000\n",
      "Epoch 39/70\n",
      "1/1 [==============================] - 0s 207ms/step - loss: 1.0010 - accuracy: 0.7143 - val_loss: 1.1898 - val_accuracy: 0.5000\n",
      "Epoch 40/70\n",
      "1/1 [==============================] - 0s 206ms/step - loss: 0.9826 - accuracy: 0.7143 - val_loss: 1.1219 - val_accuracy: 0.5000\n",
      "Epoch 41/70\n",
      "1/1 [==============================] - 0s 201ms/step - loss: 0.9372 - accuracy: 0.7143 - val_loss: 1.1067 - val_accuracy: 0.5000\n",
      "Epoch 42/70\n",
      "1/1 [==============================] - 0s 214ms/step - loss: 0.9225 - accuracy: 0.7143 - val_loss: 1.0924 - val_accuracy: 0.5000\n",
      "Epoch 43/70\n",
      "1/1 [==============================] - 0s 149ms/step - loss: 0.9085 - accuracy: 0.7143 - val_loss: 1.0788 - val_accuracy: 0.5000\n",
      "Epoch 44/70\n",
      "1/1 [==============================] - 0s 149ms/step - loss: 0.8953 - accuracy: 0.7143 - val_loss: 1.0662 - val_accuracy: 0.5000\n",
      "Epoch 45/70\n",
      "1/1 [==============================] - 0s 189ms/step - loss: 0.8828 - accuracy: 0.7143 - val_loss: 1.0542 - val_accuracy: 0.5000\n",
      "Epoch 46/70\n",
      "1/1 [==============================] - 0s 149ms/step - loss: 0.8710 - accuracy: 0.7143 - val_loss: 1.0203 - val_accuracy: 0.5000\n",
      "Epoch 47/70\n",
      "1/1 [==============================] - 0s 187ms/step - loss: 0.8568 - accuracy: 0.7143 - val_loss: 1.0327 - val_accuracy: 0.5000\n",
      "Epoch 48/70\n",
      "1/1 [==============================] - 0s 189ms/step - loss: 0.8495 - accuracy: 0.7143 - val_loss: 1.0230 - val_accuracy: 0.5000\n",
      "Epoch 49/70\n",
      "1/1 [==============================] - 0s 154ms/step - loss: 0.8396 - accuracy: 0.7143 - val_loss: 1.0139 - val_accuracy: 0.5000\n",
      "Epoch 50/70\n",
      "1/1 [==============================] - 0s 183ms/step - loss: 0.8304 - accuracy: 0.7143 - val_loss: 1.0054 - val_accuracy: 0.5000\n",
      "Epoch 51/70\n",
      "1/1 [==============================] - 0s 187ms/step - loss: 0.8216 - accuracy: 0.7143 - val_loss: 0.9974 - val_accuracy: 0.5000\n",
      "Epoch 52/70\n",
      "1/1 [==============================] - 0s 177ms/step - loss: 0.8133 - accuracy: 0.7143 - val_loss: 0.9899 - val_accuracy: 0.5000\n",
      "Epoch 53/70\n",
      "1/1 [==============================] - 0s 167ms/step - loss: 0.8055 - accuracy: 0.7143 - val_loss: 0.9828 - val_accuracy: 0.5000\n",
      "Epoch 54/70\n",
      "1/1 [==============================] - 0s 188ms/step - loss: 0.7982 - accuracy: 0.7143 - val_loss: 0.9762 - val_accuracy: 0.5000\n",
      "Epoch 55/70\n",
      "1/1 [==============================] - 0s 180ms/step - loss: 0.7912 - accuracy: 0.7143 - val_loss: 0.9700 - val_accuracy: 0.5000\n",
      "Epoch 56/70\n",
      "1/1 [==============================] - 0s 155ms/step - loss: 0.7846 - accuracy: 0.7143 - val_loss: 0.9642 - val_accuracy: 0.5000\n",
      "Epoch 57/70\n",
      "1/1 [==============================] - 0s 171ms/step - loss: 0.7784 - accuracy: 0.7143 - val_loss: 0.9587 - val_accuracy: 0.5000\n",
      "Epoch 58/70\n"
     ]
    },
    {
     "name": "stdout",
     "output_type": "stream",
     "text": [
      "1/1 [==============================] - 0s 218ms/step - loss: 0.7725 - accuracy: 0.7143 - val_loss: 0.9536 - val_accuracy: 0.5000\n",
      "Epoch 59/70\n",
      "1/1 [==============================] - 0s 154ms/step - loss: 0.7669 - accuracy: 0.7143 - val_loss: 0.9488 - val_accuracy: 0.5000\n",
      "Epoch 60/70\n",
      "1/1 [==============================] - 0s 166ms/step - loss: 0.7616 - accuracy: 0.7143 - val_loss: 0.9442 - val_accuracy: 0.5000\n",
      "Epoch 61/70\n",
      "1/1 [==============================] - 0s 193ms/step - loss: 0.7566 - accuracy: 0.7143 - val_loss: 0.9399 - val_accuracy: 0.5000\n",
      "Epoch 62/70\n",
      "1/1 [==============================] - 0s 182ms/step - loss: 0.7519 - accuracy: 0.7143 - val_loss: 0.9359 - val_accuracy: 0.5000\n",
      "Epoch 63/70\n",
      "1/1 [==============================] - 0s 194ms/step - loss: 0.7474 - accuracy: 0.7143 - val_loss: 0.9320 - val_accuracy: 0.5000\n",
      "Epoch 64/70\n",
      "1/1 [==============================] - 0s 187ms/step - loss: 0.7431 - accuracy: 0.7143 - val_loss: 0.9284 - val_accuracy: 0.5000\n",
      "Epoch 65/70\n",
      "1/1 [==============================] - 0s 150ms/step - loss: 0.7390 - accuracy: 0.7143 - val_loss: 0.9250 - val_accuracy: 0.5000\n",
      "Epoch 66/70\n",
      "1/1 [==============================] - 0s 202ms/step - loss: 0.7351 - accuracy: 0.7143 - val_loss: 0.9218 - val_accuracy: 0.5000\n",
      "Epoch 67/70\n",
      "1/1 [==============================] - 0s 219ms/step - loss: 0.7314 - accuracy: 0.7143 - val_loss: 0.9187 - val_accuracy: 0.5000\n",
      "Epoch 68/70\n",
      "1/1 [==============================] - 0s 149ms/step - loss: 0.7279 - accuracy: 0.7143 - val_loss: 0.9158 - val_accuracy: 0.5000\n",
      "Epoch 69/70\n",
      "1/1 [==============================] - 0s 143ms/step - loss: 0.7245 - accuracy: 0.7143 - val_loss: 0.9130 - val_accuracy: 0.5000\n",
      "Epoch 70/70\n",
      "1/1 [==============================] - 0s 206ms/step - loss: 0.7213 - accuracy: 0.7143 - val_loss: 0.9103 - val_accuracy: 0.5000\n"
     ]
    }
   ],
   "source": [
    "model.compile(optimizer='adam',\n",
    "              loss=tf.keras.losses.SparseCategoricalCrossentropy(from_logits=True),\n",
    "              metrics=['accuracy'])\n",
    "\n",
    "history = model.fit(X_train, y_train, epochs=70, \n",
    "                    validation_data=(X_test, y_test))"
   ]
  },
  {
   "cell_type": "code",
   "execution_count": 21,
   "id": "c2187dc1",
   "metadata": {},
   "outputs": [
    {
     "data": {
      "image/png": "[encoded data removed]",
      "text/plain": [
       "<Figure size 432x288 with 1 Axes>"
      ]
     },
     "metadata": {
      "needs_background": "light"
     },
     "output_type": "display_data"
    },
    {
     "data": {
      "image/png": "[encoded data removed]",
      "text/plain": [
       "<Figure size 432x288 with 1 Axes>"
      ]
     },
     "metadata": {
      "needs_background": "light"
     },
     "output_type": "display_data"
    }
   ],
   "source": [
    "# Accuray \n",
    "plt.plot(history.history['val_accuracy'])\n",
    "\n",
    "plt.title('model accuracy')\n",
    "plt.ylabel('accuracy')\n",
    "plt.xlabel('epoch')\n",
    "plt.legend(['train', 'test'], loc='upper left')\n",
    "plt.show()\n",
    "# Loss \n",
    "plt.plot(history.history['loss'])\n",
    "\n",
    "plt.title('model loss')\n",
    "plt.ylabel('loss')\n",
    "plt.xlabel('epoch')\n",
    "plt.legend(['train', 'test'], loc='upper left')\n",
    "plt.show()\n",
    "\n"
   ]
  },
  {
   "cell_type": "code",
   "execution_count": 22,
   "id": "3f210438",
   "metadata": {},
   "outputs": [
    {
     "data": {
      "image/png": "[encoded data removed]",
      "text/plain": [
       "<Figure size 432x288 with 1 Axes>"
      ]
     },
     "metadata": {
      "needs_background": "light"
     },
     "output_type": "display_data"
    },
    {
     "data": {
      "image/png": "[encoded data removed]",
      "text/plain": [
       "<Figure size 432x288 with 1 Axes>"
      ]
     },
     "metadata": {
      "needs_background": "light"
     },
     "output_type": "display_data"
    }
   ],
   "source": [
    "# Accuray  val\n",
    "plt.plot(history.history['val_accuracy'])\n",
    "\n",
    "plt.title('model and test accuracy')\n",
    "plt.ylabel('accuracy')\n",
    "plt.xlabel('epoch')\n",
    "plt.legend(['train', 'test'], loc='upper left')\n",
    "plt.show()\n",
    "# Loss \n",
    "plt.plot(history.history['val_loss'])\n",
    "\n",
    "plt.title('model loss')\n",
    "plt.ylabel('loss')\n",
    "plt.xlabel('epoch')\n",
    "plt.legend(['train', 'test'], loc='upper left')\n",
    "plt.show()"
   ]
  },
  {
   "cell_type": "code",
   "execution_count": 23,
   "id": "5d44b2bf",
   "metadata": {},
   "outputs": [
    {
     "name": "stderr",
     "output_type": "stream",
     "text": [
      "/home/bit/.local/lib/python3.6/site-packages/tensorflow/python/keras/engine/sequential.py:450: UserWarning: `model.predict_classes()` is deprecated and will be removed after 2021-01-01. Please use instead:* `np.argmax(model.predict(x), axis=-1)`,   if your model does multi-class classification   (e.g. if it uses a `softmax` last-layer activation).* `(model.predict(x) > 0.5).astype(\"int32\")`,   if your model does binary classification   (e.g. if it uses a `sigmoid` last-layer activation).\n",
      "  warnings.warn('`model.predict_classes()` is deprecated and '\n"
     ]
    },
    {
     "name": "stdout",
     "output_type": "stream",
     "text": [
      "\n",
      "\n",
      "accuracy score: 50.0\n",
      "\n",
      "\n",
      "              precision    recall  f1-score   support\n",
      "\n",
      "           0       0.00      0.00      0.00         1\n",
      "           1       0.50      1.00      0.67         1\n",
      "\n",
      "    accuracy                           0.50         2\n",
      "   macro avg       0.25      0.50      0.33         2\n",
      "weighted avg       0.25      0.50      0.33         2\n",
      "\n",
      "[[0 1]\n",
      " [0 1]]\n"
     ]
    },
    {
     "name": "stderr",
     "output_type": "stream",
     "text": [
      "/usr/local/lib64/python3.6/site-packages/sklearn/metrics/_classification.py:1245: UndefinedMetricWarning: Precision and F-score are ill-defined and being set to 0.0 in labels with no predicted samples. Use `zero_division` parameter to control this behavior.\n",
      "  _warn_prf(average, modifier, msg_start, len(result))\n",
      "/usr/local/lib64/python3.6/site-packages/sklearn/metrics/_classification.py:1245: UndefinedMetricWarning: Precision and F-score are ill-defined and being set to 0.0 in labels with no predicted samples. Use `zero_division` parameter to control this behavior.\n",
      "  _warn_prf(average, modifier, msg_start, len(result))\n",
      "/usr/local/lib64/python3.6/site-packages/sklearn/metrics/_classification.py:1245: UndefinedMetricWarning: Precision and F-score are ill-defined and being set to 0.0 in labels with no predicted samples. Use `zero_division` parameter to control this behavior.\n",
      "  _warn_prf(average, modifier, msg_start, len(result))\n"
     ]
    }
   ],
   "source": [
    "# Performantie op de test data\n",
    "from sklearn.metrics import confusion_matrix, accuracy_score\n",
    "from sklearn.metrics import classification_report\n",
    "y_pred = model.predict_classes(X_test)\n",
    "print('\\n')\n",
    "print('accuracy score:', accuracy_score(y_test, y_pred) * 100) \n",
    "print('\\n')\n",
    "print(classification_report(y_test, y_pred))\n",
    "cf = confusion_matrix(y_test, y_pred)\n",
    "print(cf)"
   ]
  },
  {
   "cell_type": "code",
   "execution_count": null,
   "id": "210f08e7",
   "metadata": {},
   "outputs": [],
   "source": []
  }
 ],
 "metadata": {
  "kernelspec": {
   "display_name": "Python 3",
   "language": "python",
   "name": "python3"
  },
  "language_info": {
   "codemirror_mode": {
    "name": "ipython",
    "version": 3
   },
   "file_extension": ".py",
   "mimetype": "text/x-python",
   "name": "python",
   "nbconvert_exporter": "python",
   "pygments_lexer": "ipython3",
   "version": "3.6.8"
  }
 },
 "nbformat": 4,
 "nbformat_minor": 5
}
