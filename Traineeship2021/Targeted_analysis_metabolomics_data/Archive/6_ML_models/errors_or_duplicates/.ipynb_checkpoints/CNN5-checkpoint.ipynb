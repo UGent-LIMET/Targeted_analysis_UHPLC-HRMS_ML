{
 "cells": [
  {
   "cell_type": "code",
   "execution_count": 1,
   "id": "c78948a3",
   "metadata": {},
   "outputs": [
    {
     "name": "stdout",
     "output_type": "stream",
     "text": [
      "3406\n",
      "1704\n"
     ]
    }
   ],
   "source": [
    "\n",
    "############Adjustments##############\n",
    "\n",
    "#options\n",
    "PATH_DI06C001 = '/media/sf_SF/Stage2021/targetedQE/' \n",
    "\n",
    "## Adjustments\n",
    "path = PATH_DI06C001\n",
    "\n",
    "filename_Y_labels = 'total_y_matrix_with_binary_label.txt'\n",
    "\n",
    "########################\n",
    "\n",
    "\n",
    "\n",
    "# load libraries\n",
    "import pandas as pd\n",
    "import os\n",
    "import random\n",
    "from PIL import Image\n",
    "import numpy as np\n",
    "\n",
    "\n",
    "#set paths\n",
    "path_data_in = path + 'data/input/' + 'MachineLearning/'\n",
    "path_data_out = path + 'data/output/' + 'MachineLearning/'\n",
    "path_data_X = path_data_in + 'Xarrays/' #png's\n",
    "path_data_y = path_data_in + 'Yarrays/' #labels\n",
    "\n",
    "\n",
    "\n",
    "## Y\n",
    "#load all Y labels together\n",
    "filename = path_data_y + filename_Y_labels\n",
    "# print(filename)\n",
    "\n",
    "y = pd.read_csv(filename, sep='\\t')\n",
    "\n",
    "\n",
    "\n",
    "## X\n",
    "#list all X files and devide in train OR test folder\n",
    "filenames_X_train = []\n",
    "filenames_X_test = []\n",
    "directory_list = os.listdir(path_data_X)\n",
    "# print(directory_list)\n",
    "\n",
    "#random order list with filenames\n",
    "random.shuffle(directory_list)\n",
    "\n",
    "i = 0\n",
    "for filename in directory_list:\n",
    "    #print (filename) #all files, folders\n",
    "    #print (i)\n",
    "    if \".png\" in filename:\n",
    "        #print (filename)\n",
    "        if i % 3 == 0: \n",
    "            #1/3th of data is test set, rest in train\n",
    "            #print(i)\n",
    "            filenames_X_test.append(path_data_X + filename)\n",
    "        else:\n",
    "            filenames_X_train.append(path_data_X + filename)\n",
    "        i = i + 1\n",
    "        \n",
    " #check ok? 70-30 devide train - test? ok     \n",
    "print(len(filenames_X_train))\n",
    "print(len(filenames_X_test))\n",
    "\n",
    "\n",
    "## load X data + Merge per train/test X's with Y to S1\n",
    "#keep only non unique values\n",
    "\n",
    "\n",
    "def load_X_if_matched_in_y(filenames_list, y):\n",
    "    all_images_as_array=[]\n",
    "    label=[]    \n",
    "    # match = 0\n",
    "    # no_match = 0\n",
    "    for filename in filenames_list:\n",
    "        #print(filename)\n",
    "        #filename = filenames_X_train[3]\n",
    "        filename_wopath = filename.split('Xarrays/')[1]\n",
    "        #filename_wopath = filename_wopath[:-4] #wo .png todo, see same x/y !!!\n",
    "        # print(filename_wopath)\n",
    "    \n",
    "        matching_y = y[y.png==filename_wopath]\n",
    "        if len(matching_y) == 1:\n",
    "            label.append(matching_y.iloc[0,2]) #1st elem contains string NF/FOUND\n",
    "            \n",
    "            #load figure correctly as array [[], [], []]]\n",
    "            img=Image.open(filename)\n",
    "            np_array = np.asarray(img)\n",
    "            l,b,c = np_array.shape    \n",
    "            np_array = np_array.reshape(l*b*c,)   \n",
    "            all_images_as_array.append(np_array)\n",
    "            # match = match + 1\n",
    "            \n",
    "        if len(matching_y) != 1:\n",
    "            # print(\"no or multiple match(es) in y found for: \" + filename)\n",
    "            # no_match = no_match + 1\n",
    "            continue\n",
    "\n",
    "    return np.array(all_images_as_array), np.array(label)\n",
    "    \n",
    "\n",
    "#if re.match(filename_wopath, y.Name[0]): #todo search in volled colom, ev niet via regress want wo .png moet volled zelfde\n",
    "        \n",
    "\n",
    "\n",
    "X_train,y_train = load_X_if_matched_in_y(filenames_X_train, y)\n",
    "X_test, y_test = load_X_if_matched_in_y(filenames_X_test, y)\n",
    "\n",
    "\n",
    "# print(X_train)\n",
    "# print(len(y_train))\n",
    "# print(X_test)\n",
    "# print(len(y_test))\n",
    "\n"
   ]
  },
  {
   "cell_type": "code",
   "execution_count": 5,
   "id": "0e501bc3",
   "metadata": {},
   "outputs": [
    {
     "data": {
      "image/png": "[encoded data removed]",
      "text/plain": [
       "<Figure size 432x288 with 1 Axes>"
      ]
     },
     "metadata": {
      "needs_background": "light"
     },
     "output_type": "display_data"
    }
   ],
   "source": [
    "import matplotlib.pyplot as plt\n",
    "# Reshape\n",
    "X_train = X_train.reshape((len(X_train),64, 64,4))\n",
    "X_test = X_test.reshape((len(X_test),64, 64,4)) \n",
    "# show\n",
    "image = X_train[1]\n",
    "plt.imshow(image)\n",
    "plt.show()"
   ]
  },
  {
   "cell_type": "code",
   "execution_count": 6,
   "id": "dbb338ad",
   "metadata": {},
   "outputs": [],
   "source": [
    "import tensorflow as tf"
   ]
  },
  {
   "cell_type": "code",
   "execution_count": 7,
   "id": "9591b564",
   "metadata": {},
   "outputs": [],
   "source": [
    "model = tf.keras.Sequential(\n",
    "    [\n",
    "    tf.keras.layers.Conv2D(32, (3,3), padding='same', activation=\"relu\",input_shape=(64, 64, 4)),\n",
    "    tf.keras.layers.MaxPooling2D((2, 2), strides=2),\n",
    "     \n",
    "    tf.keras.layers.Conv2D(64, (3,3), padding='same', activation=\"relu\"),\n",
    "    tf.keras.layers.MaxPooling2D((2, 2), strides=2),\n",
    "     \n",
    "    tf.keras.layers.Flatten(),\n",
    "    tf.keras.layers.Dense(100, activation=\"relu\"),\n",
    "    tf.keras.layers.BatchNormalization(),\n",
    "    tf.keras.layers.Dense(10, activation=\"softmax\")\n",
    "]\n",
    ")"
   ]
  },
  {
   "cell_type": "code",
   "execution_count": 8,
   "id": "42a96365",
   "metadata": {},
   "outputs": [],
   "source": [
    "model.compile(optimizer='adam',\n",
    "              loss=tf.keras.losses.SparseCategoricalCrossentropy(from_logits=True),\n",
    "              metrics=['accuracy'])"
   ]
  },
  {
   "cell_type": "code",
   "execution_count": 9,
   "id": "d1b4cc17",
   "metadata": {},
   "outputs": [],
   "source": [
    "checkpoint_filepath = '/tmp/checkpoint'\n",
    "model_checkpoint_callback = tf.keras.callbacks.ModelCheckpoint(\n",
    "    filepath=checkpoint_filepath,\n",
    "    save_weights_only=False,\n",
    "    monitor='loss',\n",
    "    mode='min',\n",
    "    save_best_only=True)"
   ]
  },
  {
   "cell_type": "code",
   "execution_count": 10,
   "id": "de37a633",
   "metadata": {},
   "outputs": [],
   "source": [
    "from tensorflow.keras.callbacks import EarlyStopping\n",
    "callbacks = [\n",
    "             EarlyStopping(patience=10),\n",
    "             model_checkpoint_callback,\n",
    "\n",
    "]"
   ]
  },
  {
   "cell_type": "code",
   "execution_count": 19,
   "id": "2f1a7427",
   "metadata": {},
   "outputs": [
    {
     "name": "stdout",
     "output_type": "stream",
     "text": [
      "Epoch 1/500\n",
      "74/74 [==============================] - 12s 166ms/step - loss: 0.2305 - accuracy: 0.9038 - val_loss: 393.5480 - val_accuracy: 0.0000e+00\n",
      "INFO:tensorflow:Assets written to: /tmp/checkpoint/assets\n",
      "Epoch 2/500\n",
      "74/74 [==============================] - 12s 157ms/step - loss: 0.2242 - accuracy: 0.9033 - val_loss: 781.2286 - val_accuracy: 0.0000e+00\n",
      "INFO:tensorflow:Assets written to: /tmp/checkpoint/assets\n",
      "Epoch 3/500\n",
      "74/74 [==============================] - 12s 165ms/step - loss: 0.2168 - accuracy: 0.8986 - val_loss: 648.7202 - val_accuracy: 0.3449\n",
      "INFO:tensorflow:Assets written to: /tmp/checkpoint/assets\n",
      "Epoch 4/500\n",
      "74/74 [==============================] - 22s 303ms/step - loss: 0.2477 - accuracy: 0.8884 - val_loss: 408.6088 - val_accuracy: 0.3449\n",
      "Epoch 5/500\n",
      "74/74 [==============================] - 20s 266ms/step - loss: 0.2147 - accuracy: 0.9046 - val_loss: 308.7526 - val_accuracy: 0.0000e+00\n",
      "INFO:tensorflow:Assets written to: /tmp/checkpoint/assets\n",
      "Epoch 6/500\n",
      "74/74 [==============================] - 14s 191ms/step - loss: 0.2075 - accuracy: 0.9145 - val_loss: 127.8776 - val_accuracy: 0.3449\n",
      "INFO:tensorflow:Assets written to: /tmp/checkpoint/assets\n",
      "Epoch 7/500\n",
      "74/74 [==============================] - 13s 171ms/step - loss: 0.2034 - accuracy: 0.9110 - val_loss: 0.6188 - val_accuracy: 0.7774\n",
      "INFO:tensorflow:Assets written to: /tmp/checkpoint/assets\n",
      "Epoch 8/500\n",
      "74/74 [==============================] - 13s 173ms/step - loss: 0.2082 - accuracy: 0.9068 - val_loss: 68.5547 - val_accuracy: 0.3449\n",
      "Epoch 9/500\n",
      "74/74 [==============================] - 13s 179ms/step - loss: 0.5036 - accuracy: 0.7883 - val_loss: 769.7022 - val_accuracy: 0.0000e+00\n",
      "Epoch 10/500\n",
      "74/74 [==============================] - 22s 293ms/step - loss: 0.3691 - accuracy: 0.8293 - val_loss: 816.8027 - val_accuracy: 0.0000e+00\n",
      "Epoch 11/500\n",
      "74/74 [==============================] - 20s 273ms/step - loss: 0.3580 - accuracy: 0.8375 - val_loss: 135.2697 - val_accuracy: 0.6551\n",
      "Epoch 12/500\n",
      "74/74 [==============================] - 14s 195ms/step - loss: 0.3615 - accuracy: 0.8336 - val_loss: 45.1238 - val_accuracy: 0.0000e+00\n",
      "Epoch 13/500\n",
      "74/74 [==============================] - 13s 174ms/step - loss: 0.3151 - accuracy: 0.8627 - val_loss: 225.8573 - val_accuracy: 0.3449\n",
      "Epoch 14/500\n",
      "74/74 [==============================] - 13s 175ms/step - loss: 0.3278 - accuracy: 0.8529 - val_loss: 407.1727 - val_accuracy: 0.3449\n",
      "Epoch 15/500\n",
      "74/74 [==============================] - 15s 205ms/step - loss: 0.3130 - accuracy: 0.8678 - val_loss: 46.5761 - val_accuracy: 0.3449\n",
      "Epoch 16/500\n",
      "74/74 [==============================] - 17s 232ms/step - loss: 0.3027 - accuracy: 0.8747 - val_loss: 73.9817 - val_accuracy: 0.0000e+00\n",
      "Epoch 17/500\n",
      "74/74 [==============================] - 16s 221ms/step - loss: 0.2801 - accuracy: 0.8820 - val_loss: 188.8897 - val_accuracy: 0.0000e+00\n"
     ]
    }
   ],
   "source": [
    "history = model.fit(X_train,y_train, epochs=500,validation_data=(X_test,y_test),\n",
    "                    callbacks=callbacks\n",
    "                    )"
   ]
  },
  {
   "cell_type": "code",
   "execution_count": 20,
   "id": "ea6c8d65",
   "metadata": {},
   "outputs": [
    {
     "name": "stdout",
     "output_type": "stream",
     "text": [
      "37/37 [==============================] - 2s 54ms/step - loss: 188.8897 - accuracy: 0.0000e+00\n",
      "Accuracy on test dataset: 0.0\n"
     ]
    }
   ],
   "source": [
    "loss, accuracy = model.evaluate(X_test,y_test)\n",
    "print('Accuracy on test dataset:', accuracy)"
   ]
  },
  {
   "cell_type": "code",
   "execution_count": 21,
   "id": "3fe38898",
   "metadata": {},
   "outputs": [],
   "source": [
    "predictions = model.predict(X_test)"
   ]
  },
  {
   "cell_type": "code",
   "execution_count": 22,
   "id": "0b6cc55f",
   "metadata": {},
   "outputs": [],
   "source": [
    "import numpy as np"
   ]
  },
  {
   "cell_type": "code",
   "execution_count": 23,
   "id": "cfbb0362",
   "metadata": {},
   "outputs": [
    {
     "data": {
      "text/plain": [
       "array([3])"
      ]
     },
     "execution_count": 23,
     "metadata": {},
     "output_type": "execute_result"
    }
   ],
   "source": [
    "np.argmax(model.predict(X_test[60].reshape(1,64,64,4)), axis=-1)"
   ]
  },
  {
   "cell_type": "code",
   "execution_count": 24,
   "id": "ec21fdf8",
   "metadata": {},
   "outputs": [],
   "source": [
    "import pandas as pd\n",
    "\n",
    "metrics_df = pd.DataFrame(history.history)"
   ]
  },
  {
   "cell_type": "code",
   "execution_count": 25,
   "id": "3a19cc70",
   "metadata": {},
   "outputs": [
    {
     "data": {
      "text/html": [
       "<div>\n",
       "<style scoped>\n",
       "    .dataframe tbody tr th:only-of-type {\n",
       "        vertical-align: middle;\n",
       "    }\n",
       "\n",
       "    .dataframe tbody tr th {\n",
       "        vertical-align: top;\n",
       "    }\n",
       "\n",
       "    .dataframe thead th {\n",
       "        text-align: right;\n",
       "    }\n",
       "</style>\n",
       "<table border=\"1\" class=\"dataframe\">\n",
       "  <thead>\n",
       "    <tr style=\"text-align: right;\">\n",
       "      <th></th>\n",
       "      <th>loss</th>\n",
       "      <th>accuracy</th>\n",
       "      <th>val_loss</th>\n",
       "      <th>val_accuracy</th>\n",
       "    </tr>\n",
       "  </thead>\n",
       "  <tbody>\n",
       "    <tr>\n",
       "      <th>0</th>\n",
       "      <td>0.230503</td>\n",
       "      <td>0.903764</td>\n",
       "      <td>393.548035</td>\n",
       "      <td>0.000000</td>\n",
       "    </tr>\n",
       "    <tr>\n",
       "      <th>1</th>\n",
       "      <td>0.224180</td>\n",
       "      <td>0.903336</td>\n",
       "      <td>781.228577</td>\n",
       "      <td>0.000000</td>\n",
       "    </tr>\n",
       "    <tr>\n",
       "      <th>2</th>\n",
       "      <td>0.216801</td>\n",
       "      <td>0.898631</td>\n",
       "      <td>648.720154</td>\n",
       "      <td>0.344945</td>\n",
       "    </tr>\n",
       "    <tr>\n",
       "      <th>3</th>\n",
       "      <td>0.247691</td>\n",
       "      <td>0.888366</td>\n",
       "      <td>408.608765</td>\n",
       "      <td>0.344945</td>\n",
       "    </tr>\n",
       "    <tr>\n",
       "      <th>4</th>\n",
       "      <td>0.214655</td>\n",
       "      <td>0.904619</td>\n",
       "      <td>308.752625</td>\n",
       "      <td>0.000000</td>\n",
       "    </tr>\n",
       "    <tr>\n",
       "      <th>5</th>\n",
       "      <td>0.207465</td>\n",
       "      <td>0.914457</td>\n",
       "      <td>127.877563</td>\n",
       "      <td>0.344945</td>\n",
       "    </tr>\n",
       "    <tr>\n",
       "      <th>6</th>\n",
       "      <td>0.203437</td>\n",
       "      <td>0.911035</td>\n",
       "      <td>0.618779</td>\n",
       "      <td>0.777400</td>\n",
       "    </tr>\n",
       "    <tr>\n",
       "      <th>7</th>\n",
       "      <td>0.208198</td>\n",
       "      <td>0.906758</td>\n",
       "      <td>68.554733</td>\n",
       "      <td>0.344945</td>\n",
       "    </tr>\n",
       "    <tr>\n",
       "      <th>8</th>\n",
       "      <td>0.503595</td>\n",
       "      <td>0.788281</td>\n",
       "      <td>769.702209</td>\n",
       "      <td>0.000000</td>\n",
       "    </tr>\n",
       "    <tr>\n",
       "      <th>9</th>\n",
       "      <td>0.369110</td>\n",
       "      <td>0.829341</td>\n",
       "      <td>816.802734</td>\n",
       "      <td>0.000000</td>\n",
       "    </tr>\n",
       "    <tr>\n",
       "      <th>10</th>\n",
       "      <td>0.357973</td>\n",
       "      <td>0.837468</td>\n",
       "      <td>135.269699</td>\n",
       "      <td>0.655055</td>\n",
       "    </tr>\n",
       "    <tr>\n",
       "      <th>11</th>\n",
       "      <td>0.361460</td>\n",
       "      <td>0.833618</td>\n",
       "      <td>45.123791</td>\n",
       "      <td>0.000000</td>\n",
       "    </tr>\n",
       "    <tr>\n",
       "      <th>12</th>\n",
       "      <td>0.315076</td>\n",
       "      <td>0.862703</td>\n",
       "      <td>225.857285</td>\n",
       "      <td>0.344945</td>\n",
       "    </tr>\n",
       "    <tr>\n",
       "      <th>13</th>\n",
       "      <td>0.327831</td>\n",
       "      <td>0.852866</td>\n",
       "      <td>407.172699</td>\n",
       "      <td>0.344945</td>\n",
       "    </tr>\n",
       "    <tr>\n",
       "      <th>14</th>\n",
       "      <td>0.312954</td>\n",
       "      <td>0.867836</td>\n",
       "      <td>46.576084</td>\n",
       "      <td>0.344945</td>\n",
       "    </tr>\n",
       "    <tr>\n",
       "      <th>15</th>\n",
       "      <td>0.302687</td>\n",
       "      <td>0.874679</td>\n",
       "      <td>73.981674</td>\n",
       "      <td>0.000000</td>\n",
       "    </tr>\n",
       "    <tr>\n",
       "      <th>16</th>\n",
       "      <td>0.280117</td>\n",
       "      <td>0.881950</td>\n",
       "      <td>188.889740</td>\n",
       "      <td>0.000000</td>\n",
       "    </tr>\n",
       "  </tbody>\n",
       "</table>\n",
       "</div>"
      ],
      "text/plain": [
       "        loss  accuracy    val_loss  val_accuracy\n",
       "0   0.230503  0.903764  393.548035      0.000000\n",
       "1   0.224180  0.903336  781.228577      0.000000\n",
       "2   0.216801  0.898631  648.720154      0.344945\n",
       "3   0.247691  0.888366  408.608765      0.344945\n",
       "4   0.214655  0.904619  308.752625      0.000000\n",
       "5   0.207465  0.914457  127.877563      0.344945\n",
       "6   0.203437  0.911035    0.618779      0.777400\n",
       "7   0.208198  0.906758   68.554733      0.344945\n",
       "8   0.503595  0.788281  769.702209      0.000000\n",
       "9   0.369110  0.829341  816.802734      0.000000\n",
       "10  0.357973  0.837468  135.269699      0.655055\n",
       "11  0.361460  0.833618   45.123791      0.000000\n",
       "12  0.315076  0.862703  225.857285      0.344945\n",
       "13  0.327831  0.852866  407.172699      0.344945\n",
       "14  0.312954  0.867836   46.576084      0.344945\n",
       "15  0.302687  0.874679   73.981674      0.000000\n",
       "16  0.280117  0.881950  188.889740      0.000000"
      ]
     },
     "execution_count": 25,
     "metadata": {},
     "output_type": "execute_result"
    }
   ],
   "source": [
    "metrics_df"
   ]
  },
  {
   "cell_type": "code",
   "execution_count": 26,
   "id": "82835efc",
   "metadata": {},
   "outputs": [
    {
     "data": {
      "image/png": "[encoded data removed]",
      "text/plain": [
       "<Figure size 432x288 with 1 Axes>"
      ]
     },
     "metadata": {
      "needs_background": "light"
     },
     "output_type": "display_data"
    }
   ],
   "source": [
    "metrics_df[[\"accuracy\",\"val_accuracy\"]].plot();"
   ]
  },
  {
   "cell_type": "code",
   "execution_count": null,
   "id": "93094858",
   "metadata": {},
   "outputs": [],
   "source": []
  }
 ],
 "metadata": {
  "kernelspec": {
   "display_name": "Python 3",
   "language": "python",
   "name": "python3"
  },
  "language_info": {
   "codemirror_mode": {
    "name": "ipython",
    "version": 3
   },
   "file_extension": ".py",
   "mimetype": "text/x-python",
   "name": "python",
   "nbconvert_exporter": "python",
   "pygments_lexer": "ipython3",
   "version": "3.8.8"
  }
 },
 "nbformat": 4,
 "nbformat_minor": 5
}
