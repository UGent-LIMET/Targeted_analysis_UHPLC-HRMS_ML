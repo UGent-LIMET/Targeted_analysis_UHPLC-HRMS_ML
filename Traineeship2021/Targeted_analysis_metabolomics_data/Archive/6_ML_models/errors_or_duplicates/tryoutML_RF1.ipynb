{
 "cells": [
  {
   "cell_type": "markdown",
   "id": "adb5cb84",
   "metadata": {},
   "source": [
    "Difference input train data "
   ]
  },
  {
   "cell_type": "code",
   "execution_count": null,
   "id": "bdde634b",
   "metadata": {},
   "outputs": [],
   "source": []
  },
  {
   "cell_type": "code",
   "execution_count": null,
   "id": "d3c698f4",
   "metadata": {},
   "outputs": [],
   "source": []
  },
  {
   "cell_type": "code",
   "execution_count": null,
   "id": "63d0f334",
   "metadata": {},
   "outputs": [],
   "source": []
  },
  {
   "cell_type": "code",
   "execution_count": 11,
   "id": "76acfaf1",
   "metadata": {},
   "outputs": [
    {
     "name": "stdout",
     "output_type": "stream",
     "text": [
      "\n",
      "Random Forest - method 1\n",
      "------------------------------\n",
      "predicted = [1 1 1 1 1 1 1 1 1 1 1 1 1 1 1 1 1 1 1 1 1 1 1 1 1 1 1 1 1 1 1 1 1 1 1 1 1\n",
      " 1 1 1 1 1 1 1 1 1 1 1 1 1 1 1 1 1 1 1 1 1 1 1 1 1 1 1 1 1 1 1 1 1 1 1 1 1\n",
      " 1 1 1 1 1 1 1 1 1 1 1 1 1 1 1 1 1 1 1 1 1 1 1 1 1 1 1 1 1 1 1 1 1 1 1 1 1\n",
      " 1 1 1 1 1 1 1 1 1 1 1 1 1 1 1 1 1 1 1 1 1 1 1 1 1 1 1 1 1 1 1 1 1 1 1 1 1\n",
      " 1 1 1 1 1 1 1 1 1 1 1 1 1 1 1 1 1 1 1 1 1 1 1 1 1 1 1 1 1 1 1 1 1 1 1 1 1\n",
      " 1 1 1 1 1 1 1 1 1 1 1 1 1 1 1 1 1 1 1 1 1 1 1 1 1 1 1 1 1 1 1 1 1 1 1 1 1\n",
      " 1 1 1 1 1 1 1 1 1 1 1 1 1 1 1 1 1 1 1 1 1 0 1 1 1]\n",
      "test set  = [0 0 0 0 1 1 1 1 0 0 0 0 0 1 1 1 1 1 1 1 1 1 1 1 1 1 1 1 1 1 1 0 0 1 0 1 1\n",
      " 1 1 1 1 1 1 1 1 1 1 1 1 1 0 0 0 1 1 1 1 0 0 0 1 1 1 1 1 1 1 1 1 1 1 1 1 1\n",
      " 1 1 0 0 1 0 0 0 1 1 1 1 1 1 1 1 1 1 0 0 1 1 1 1 1 1 1 1 1 1 1 1 1 1 1 1 1\n",
      " 1 1 1 1 1 1 1 1 1 1 1 1 1 1 0 0 1 1 1 1 1 1 1 1 1 1 1 1 1 0 0 0 1 1 1 0 0\n",
      " 1 1 1 1 1 1 0 1 1 1 0 0 1 1 1 1 1 1 1 1 1 1 1 1 1 1 1 0 0 0 1 1 1 1 1 1 1\n",
      " 1 1 1 1 1 1 1 1 1 1 1 1 1 1 1 1 1 1 1 1 0 1 1 1 1 1 1 1 1 1 1 1 1 1 1 1 1\n",
      " 1 1 1 1 0 1 1 1 1 1 1 1 1 1 0 0 0 0 1 1 1 0 0 0 0]\n",
      "accuracy  = 0.8097165991902834\n",
      "\n"
     ]
    }
   ],
   "source": [
    "from ML_models_functions import RF\n",
    "from transform_functions import txt_to_df, df_to_png, resize_images, get_data\n",
    "print('\\nRandom Forest - method 1')\n",
    "print('-'*30)\n",
    "PROJECT = \"/media/sf_SF/Stage2021/Projects/\" #path directory containing found and not_found \n",
    "X_train,y_train = get_data(PROJECT+\"ML_train/\")\n",
    "X_test, y_test = get_data(PROJECT+\"ML_test/\")\n",
    "RF(X_train, y_train, X_test, y_test)"
   ]
  },
  {
   "cell_type": "code",
   "execution_count": 8,
   "id": "458b2b6d",
   "metadata": {},
   "outputs": [
    {
     "name": "stdout",
     "output_type": "stream",
     "text": [
      "\n",
      "Random Forest - method 2 \n",
      "==============================\n",
      "test set  = [1 1 1 1 1 1 1 1 1 1 1 1 1 1 1 1 1 1 1 1 1 1 1 1 1 1 1 1 1 1 1 1 1 1 1 1 1\n",
      " 1 1 1 1 0 0 0 0 0 0 0 0 0]\n",
      "predicted = [1 1 0 1 1 0 0 1 1 0 1 1 0 0 0 0 1 1 0 0 1 1 1 1 0 0 0 0 1 1 0 1 0 0 0 1 0\n",
      " 0 0 0 0 1 0 0 0 1 1 0 0 1]\n",
      "accuracy  = 0.46\n",
      "\n"
     ]
    }
   ],
   "source": [
    "from random import sample\n",
    "import os, shutil\n",
    "from transform_functions import get_data_rf\n",
    "from sklearn.ensemble import RandomForestClassifier\n",
    "\n",
    "PROJECT = \"/media/sf_SF/Stage2021/Projects/\" #path directory containing found and not_found \n",
    "NUM_PNG = 15 #adjust how big the train data must be\n",
    "\n",
    "##4.3 select test and train data\n",
    "founds = os.listdir(PROJECT+\"found/\")\n",
    "length_fo = len(founds)\n",
    "not_founds = os.listdir(PROJECT+\"not_found/\")\n",
    "length_nf = len(not_founds)\n",
    "\n",
    "## select files for the test data (founds) todo : make function\n",
    "test_fo = (sample(founds,round(length_fo/3)))\n",
    "# delete the selection from the list\n",
    "train_fo = list(set(founds) - set(test_fo))\n",
    "\n",
    "## select files for the test data (not founds)\n",
    "test_nf = (sample(not_founds,round(length_nf/3)))\n",
    "# delete the selection from the list\n",
    "train_nf = list(set(not_founds) - set(test_nf))\n",
    "all_test = test_fo + test_nf\n",
    "all_train = train_fo + train_nf\n",
    "\n",
    "###################################################################################################\n",
    "## 4.5 make model\n",
    "print('\\nRandom Forest - method 2 ')\n",
    "print('='*30)\n",
    "growing_rf = RandomForestClassifier(max_depth = 2, random_state = 0, n_estimators=10, \n",
    "                                        warm_start=True)\n",
    "\n",
    "#make subgroup to test data \n",
    "sel_test = test_fo + test_nf\n",
    "X_test, y_test = get_data_rf(PROJECT, sel_test)\n",
    "# print(X_test)\n",
    "# print(y_test)\n",
    "for j in range(2):\n",
    "    X_train=[]\n",
    "    y_train=[]\n",
    "    #make subgroup to train the data \n",
    "    sel_train_fo = sample(train_fo,round(NUM_PNG/2))\n",
    "    sel_train_nf = sample(train_nf,round(NUM_PNG/2))\n",
    "    sel_train = sel_train_fo + sel_train_nf\n",
    "    train_nf = list(set(train_nf) - set(sel_train_nf))\n",
    "    train_fo = list(set(train_fo) - set(sel_train_fo))\n",
    "    X_train,y_train = get_data_rf(PROJECT, sel_train)\n",
    "    growing_rf.fit(X_train, y_train)\n",
    "    growing_rf.n_estimators += 10 \n",
    "\n",
    "predictions = growing_rf.predict(X_test)\n",
    "print(\"test set  = {}\".format(y_test))\n",
    "print(\"predicted = {}\".format(predictions))\n",
    "acc_score = growing_rf.score(X_test, y_test)\n",
    "print(\"accuracy  = {}\\n\".format(acc_score))\n",
    "\n"
   ]
  },
  {
   "cell_type": "code",
   "execution_count": 6,
   "id": "cf6da8d9",
   "metadata": {},
   "outputs": [
    {
     "name": "stdout",
     "output_type": "stream",
     "text": [
      "\n",
      "Random Forest - method 3 \n",
      "==============================\n",
      "test set  = [0 0 0 0 1 1 1 1 0 0 0 0 0 1 1 1 1 1 1 1 1 1 1 1 1 1 1 1 1 1 1 0 0 1 0 1 1\n",
      " 1 1 1 1 1 1 1 1 1 1 1 1 1 0 0 0 1 1 1 1 0 0 0 1 1 1 1 1 1 1 1 1 1 1 1 1 1\n",
      " 1 1 0 0 1 0 0 0 1 1 1 1 1 1 1 1 1 1 0 0 1 1 1 1 1 1 1 1 1 1 1 1 1 1 1 1 1\n",
      " 1 1 1 1 1 1 1 1 1 1 1 1 1 1 0 0 1 1 1 1 1 1 1 1 1 1 1 1 1 0 0 0 1 1 1 0 0\n",
      " 1 1 1 1 1 1 0 1 1 1 0 0 1 1 1 1 1 1 1 1 1 1 1 1 1 1 1 0 0 0 1 1 1 1 1 1 1\n",
      " 1 1 1 1 1 1 1 1 1 1 1 1 1 1 1 1 1 1 1 1 0 1 1 1 1 1 1 1 1 1 1 1 1 1 1 1 1\n",
      " 1 1 1 1 0 1 1 1 1 1 1 1 1 1 0 0 0 0 1 1 1 0 0 0 0]\n",
      "predicted = [1 0 1 1 1 1 1 1 1 1 1 1 1 1 1 1 1 1 1 1 1 1 1 1 1 1 1 1 1 1 1 1 1 1 1 1 1\n",
      " 1 1 1 1 1 1 1 1 1 1 1 1 1 1 1 1 1 1 1 1 1 1 1 1 1 1 1 1 1 1 1 1 1 1 1 1 1\n",
      " 1 1 1 1 1 1 1 1 1 1 1 1 1 1 1 1 1 1 1 1 1 1 1 1 1 1 1 1 1 1 1 1 1 1 1 1 1\n",
      " 1 1 1 1 1 1 1 1 1 1 1 1 1 1 1 1 1 1 1 1 1 1 1 1 1 1 1 1 1 1 1 1 1 1 1 1 1\n",
      " 1 1 1 1 1 1 1 1 1 1 1 1 1 1 1 1 1 1 1 1 1 1 1 1 1 1 1 1 1 1 1 1 1 1 1 1 1\n",
      " 1 1 1 1 1 1 1 1 1 1 1 1 1 1 1 1 1 1 1 1 1 1 1 1 1 1 1 1 1 1 1 1 1 1 1 1 1\n",
      " 1 1 1 1 1 1 1 1 1 1 1 1 1 1 1 1 1 1 1 1 1 1 1 1 1]\n",
      "accuracy  = 0.8097165991902834\n",
      "\n"
     ]
    }
   ],
   "source": [
    "from random import sample\n",
    "import os, shutil\n",
    "from transform_functions import get_data\n",
    "from sklearn.ensemble import RandomForestClassifier\n",
    "\n",
    "PROJECT = \"/media/sf_SF/Stage2021/Projects/\" #path directory containing found and not_found \n",
    "\n",
    "# get data \n",
    "X_test, y_test = get_data(PROJECT+\"ML_test/\")\n",
    "\n",
    "## 4.5 make model\n",
    "print('\\nRandom Forest - method 3 ')\n",
    "print('='*30)\n",
    "growing_rf = RandomForestClassifier(max_depth = 2, random_state = 0, n_estimators=10, \n",
    "                                        warm_start=True)\n",
    "\n",
    "for j in range(2):\n",
    "    X_train=[]\n",
    "    y_train=[]\n",
    "    #make subgroup to train the data \n",
    "    X_train,y_train = get_data(PROJECT+\"ML_train/\")    \n",
    "    growing_rf.fit(X_train, y_train)\n",
    "    growing_rf.n_estimators += 10 #weglaten\n",
    "    # print(\"-\"*10)\n",
    "\n",
    "predictions = growing_rf.predict(X_test)\n",
    "print(\"test set  = {}\".format(y_test))\n",
    "print(\"predicted = {}\".format(predictions))\n",
    "acc_score = growing_rf.score(X_test, y_test)\n",
    "print(\"accuracy  = {}\\n\".format(acc_score))"
   ]
  },
  {
   "cell_type": "code",
   "execution_count": null,
   "id": "60e167f5",
   "metadata": {},
   "outputs": [],
   "source": []
  }
 ],
 "metadata": {
  "kernelspec": {
   "display_name": "Python 3",
   "language": "python",
   "name": "python3"
  },
  "language_info": {
   "codemirror_mode": {
    "name": "ipython",
    "version": 3
   },
   "file_extension": ".py",
   "mimetype": "text/x-python",
   "name": "python",
   "nbconvert_exporter": "python",
   "pygments_lexer": "ipython3",
   "version": "3.6.8"
  }
 },
 "nbformat": 4,
 "nbformat_minor": 5
}
