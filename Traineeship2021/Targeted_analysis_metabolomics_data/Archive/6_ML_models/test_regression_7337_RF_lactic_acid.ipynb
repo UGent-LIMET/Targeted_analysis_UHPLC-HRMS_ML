{
 "cells": [
  {
   "cell_type": "code",
   "execution_count": 2,
   "id": "9ae6444f",
   "metadata": {},
   "outputs": [],
   "source": [
    "import pickle"
   ]
  },
  {
   "cell_type": "code",
   "execution_count": 1,
   "id": "9252f689",
   "metadata": {},
   "outputs": [
    {
     "name": "stdout",
     "output_type": "stream",
     "text": [
      "48\n",
      "48\n",
      "24\n",
      "24\n",
      "                             0                  1\n",
      "0   200929s008_Lalanined3333D3   50149.4846369084\n",
      "1   200929s034_Lalanined3333D3    768330.52074596\n",
      "2   200929s028_Lalanined3333D3   862838.166204143\n",
      "3   200929s029_Lalanined3333D3                0.0\n",
      "4       200929s019_LLacticacid   6680258057.58968\n",
      "5   200929s026_Lalanined3333D3                0.0\n",
      "6     200929s020_Dopamined4HCL   586560586.120299\n",
      "7       200929s032_LLacticacid   29383875954.3783\n",
      "8   200929s018_Lalanined3333D3     97694.49564717\n",
      "9       200929s018_LLacticacid   7043093994.58836\n",
      "10  200929s038_Lalanined3333D3   70760.5452531461\n",
      "11      200929s004_LLacticacid   2896500496.98071\n",
      "12  200929s021_Lalanined3333D3   615267.694031375\n",
      "13  200929s004_Lalanined3333D3   1068569.42913836\n",
      "14      200929s030_LLacticacid   5959563623.68817\n",
      "15  200929s031_Lalanined3333D3   37976.2680816883\n",
      "16    200929s038_Dopamined4HCL    584967844.91675\n",
      "17      200929s008_LLacticacid  7466694188.687429\n",
      "18  200929s033_Lalanined3333D3   786195.213194798\n",
      "19    200929s021_Dopamined4HCL    597272286.00568\n",
      "20      200929s029_LLacticacid   32269804964.2998\n",
      "21    200929s030_Dopamined4HCL   605576068.085837\n",
      "22    200929s033_Dopamined4HCL   560607219.294629\n",
      "23      200929s031_LLacticacid                0.0\n",
      "24\n"
     ]
    }
   ],
   "source": [
    "\n",
    "############Adjustments##############\n",
    "\n",
    "#options\n",
    "PATH = '/media/sf_SF/Stage2021/targetedQE/' \n",
    "OPTION = 'label' # area or label\n",
    "FOLDER = 'X_arrays_LA/'\n",
    "\n",
    "\n",
    "## Adjustments\n",
    "\n",
    "filename_Y_labels = 'total_y_matrix.txt'\n",
    "\n",
    "########################\n",
    "\n",
    "\n",
    "\n",
    "# load libraries\n",
    "import pandas as pd\n",
    "import os\n",
    "import random\n",
    "from PIL import Image\n",
    "import numpy as np\n",
    "\n",
    "\n",
    "#set paths\n",
    "path_data_in = PATH + 'data/input/' + 'MachineLearning/'\n",
    "path_data_out = PATH + 'data/output/' + 'MachineLearning/'\n",
    "path_data_X = path_data_in + FOLDER #png's\n",
    "path_data_y = path_data_in + 'Yarrays/' #labels\n",
    "\n",
    "\n",
    "filename = path_data_y + filename_Y_labels\n",
    "\n",
    "y = pd.read_csv(filename, sep = \"\\t\")\n",
    "\n",
    "filenames_X_train = []\n",
    "filenames_X_test = []\n",
    "directory_list = os.listdir(path_data_X)\n",
    "random.shuffle(directory_list)\n",
    "os.chdir(path_data_X)\n",
    "\n",
    "i = 0\n",
    "for filename in directory_list:\n",
    "    if \".png\" in filename :\n",
    "        if i % 3 == 0: \n",
    "            filenames_X_test.append(path_data_X + filename)\n",
    "        else:\n",
    "            filenames_X_train.append(path_data_X + filename)\n",
    "        i = i + 1\n",
    "    \n",
    "def load_X_if_matched_in_y(filenames_list, y):\n",
    "    all_images_as_array=[]\n",
    "    label=[] \n",
    "    area = []   \n",
    "    global ordered_filenames\n",
    "    ordered_filenames=pd.DataFrame()\n",
    "    \n",
    "    for filename in filenames_list:\n",
    "        filename_wopath = filename.split('X_arrays_LA/')[1]\n",
    "        filename_wopath = filename_wopath.strip(\".png\")\n",
    "\n",
    "        matching_y = y[y.SampleTargetedcombination==filename_wopath]\n",
    "        if len(matching_y) == 1:\n",
    "            label.append(matching_y.iloc[0,5]) \n",
    "            ar = matching_y.iloc[0,3]\n",
    "            area.append(ar)\n",
    "        \n",
    "            img=Image.open(filename)\n",
    "            np_array = np.asarray(img)\n",
    "\n",
    "            l,b,c = np_array.shape    \n",
    "            np_array = np_array.reshape(l*b*c,)   \n",
    "            all_images_as_array.append(np_array)\n",
    "            \n",
    "            file_area = pd.DataFrame(np.array([[filename_wopath,ar]]))\n",
    "            ordered_filenames = ordered_filenames.append(file_area, ignore_index=True)\n",
    "            \n",
    "            \n",
    "        if len(matching_y) != 1:\n",
    "            continue\n",
    "        \n",
    "    if OPTION == 'area':\n",
    "        option = area\n",
    "    else:\n",
    "        option = label       \n",
    "    return np.array(all_images_as_array), np.array(option)\n",
    "    \n",
    "X_train,y_train = load_X_if_matched_in_y(filenames_X_train, y)\n",
    "X_test, y_test = load_X_if_matched_in_y(filenames_X_test, y)\n",
    "\n",
    "print(len(y_train))\n",
    "print(len(X_train))\n",
    "print(len(y_test))\n",
    "print(len(X_test))\n",
    "\n",
    "print(ordered_filenames)\n",
    "print(len(ordered_filenames))"
   ]
  },
  {
   "cell_type": "code",
   "execution_count": 3,
   "id": "19e75120",
   "metadata": {},
   "outputs": [],
   "source": [
    "%matplotlib inline\n",
    "import numpy as np\n",
    "import pandas as pd\n",
    "import matplotlib.pyplot as plt\n",
    "\n",
    "from sklearn import linear_model\n",
    "\n",
    "from sklearn.linear_model import Ridge\n",
    "from sklearn.linear_model import Lasso\n",
    "\n",
    "from sklearn import linear_model, datasets\n",
    "from sklearn import model_selection\n",
    "from sklearn.ensemble import BaggingClassifier\n",
    "from sklearn.tree import DecisionTreeClassifier\n",
    "from sklearn.ensemble import AdaBoostClassifier\n",
    "from sklearn.ensemble import GradientBoostingClassifier\n",
    "\n",
    "from sklearn.model_selection import train_test_split\n",
    "from sklearn.metrics import classification_report\n",
    "from sklearn import preprocessing\n",
    "\n",
    "from sklearn.metrics import confusion_matrix, accuracy_score\n",
    "from sklearn.linear_model import LogisticRegression\n",
    "from sklearn.ensemble import RandomForestClassifier\n",
    "from sklearn.ensemble import RandomForestRegressor\n",
    "from sklearn import tree\n"
   ]
  },
  {
   "cell_type": "code",
   "execution_count": 4,
   "id": "e04c2c85",
   "metadata": {},
   "outputs": [
    {
     "name": "stdout",
     "output_type": "stream",
     "text": [
      "Fitting Random Forest regression on training set\n",
      "\n",
      "\n",
      "Getting Model Accuracy...\n",
      "Training Accuracy =  0.9341839197000802\n",
      "Test Accuracy =  0.7540747376655235\n"
     ]
    }
   ],
   "source": [
    "print(\"Fitting Random Forest regression on training set\")\n",
    "\n",
    "# Fitting the regression model to the dataset\n",
    "regressor = RandomForestRegressor(n_estimators=200, max_depth=200, random_state = 18)\n",
    "regressor.fit(X_train, y_train) # Using ravel() to avoid getting 'DataConversionWarning' warning message\n",
    "\n",
    "#------------------------------------------------------------------------------------------------------------------------#\n",
    "\n",
    "\n",
    "#------------------------------------------------------------------------------------------------------------------------#\n",
    "print(\"\\n\")\n",
    "print(\"Getting Model Accuracy...\")\n",
    "\n",
    "# Get regression details\n",
    "#print(\"Estimated Coefficient = \", regressor.coef_)\n",
    "#print(\"Estimated Intercept = \", regressor.intercept_)\n",
    "print(\"Training Accuracy = \", regressor.score(X_train, y_train))\n",
    "print(\"Test Accuracy = \", regressor.score(X_test, y_test))\n",
    "\n"
   ]
  },
  {
   "cell_type": "code",
   "execution_count": 7,
   "id": "011c558c",
   "metadata": {},
   "outputs": [],
   "source": [
    "import pickle"
   ]
  },
  {
   "cell_type": "code",
   "execution_count": 14,
   "id": "7d2df4ea",
   "metadata": {},
   "outputs": [],
   "source": [
    "filename = 'regressor_306_LA.sav'\n",
    "pickle.dump(regressor, open(filename, 'wb'))"
   ]
  },
  {
   "cell_type": "code",
   "execution_count": 9,
   "id": "fe5e06a8",
   "metadata": {},
   "outputs": [],
   "source": [
    "y_pred = regressor.predict(X_test)"
   ]
  },
  {
   "cell_type": "code",
   "execution_count": 10,
   "id": "000fe46e",
   "metadata": {},
   "outputs": [
    {
     "data": {
      "text/plain": [
       "[<matplotlib.lines.Line2D at 0x7f289324e588>,\n",
       " <matplotlib.lines.Line2D at 0x7f28931e2400>]"
      ]
     },
     "execution_count": 10,
     "metadata": {},
     "output_type": "execute_result"
    },
    {
     "data": {
      "image/png": "[encoded data removed]",
      "text/plain": [
       "<Figure size 432x288 with 1 Axes>"
      ]
     },
     "metadata": {
      "needs_background": "light"
     },
     "output_type": "display_data"
    }
   ],
   "source": [
    "coef = np.polyfit(y_pred,y_test,1)\n",
    "poly1d_fn = np.poly1d(coef) \n",
    "# poly1d_fn is now a function which takes in x and returns an estimate for y\n",
    "\n",
    "plt.plot(y_pred,y_test, 'yo', y_pred, poly1d_fn(y_pred), '--k')"
   ]
  },
  {
   "cell_type": "code",
   "execution_count": 11,
   "id": "9aab0528",
   "metadata": {},
   "outputs": [
    {
     "name": "stdout",
     "output_type": "stream",
     "text": [
      "               0\n",
      "0   2.723545e+08\n",
      "1   2.088688e+08\n",
      "2   7.532983e+08\n",
      "3   3.262208e+08\n",
      "4   4.651271e+09\n",
      "5   7.644573e+08\n",
      "6   1.304988e+09\n",
      "7   1.706497e+10\n",
      "8   4.564006e+08\n",
      "9   7.986199e+09\n",
      "10  4.032954e+08\n",
      "11  2.298031e+09\n",
      "12  2.653324e+08\n",
      "13  7.643445e+07\n",
      "14  8.803908e+09\n",
      "15  1.820646e+08\n",
      "16  1.129827e+09\n",
      "17  4.422743e+09\n",
      "18  3.935811e+08\n",
      "19  1.618090e+09\n",
      "20  1.691205e+10\n",
      "21  8.662193e+08\n",
      "22  1.644348e+09\n",
      "23  3.051844e+09\n"
     ]
    }
   ],
   "source": [
    "df = pd.DataFrame(data=y_pred)\n",
    "print(df)"
   ]
  },
  {
   "cell_type": "code",
   "execution_count": 12,
   "id": "ee4440c4",
   "metadata": {},
   "outputs": [],
   "source": [
    "result=pd.concat([ordered_filenames, df], axis=1)"
   ]
  },
  {
   "cell_type": "code",
   "execution_count": 13,
   "id": "d7fbad80",
   "metadata": {},
   "outputs": [],
   "source": [
    "result.to_csv('y_pred_with_regressor_306_LA.txt', sep=\"\\t\")"
   ]
  },
  {
   "cell_type": "code",
   "execution_count": null,
   "id": "0888254f",
   "metadata": {},
   "outputs": [],
   "source": []
  }
 ],
 "metadata": {
  "kernelspec": {
   "display_name": "Python 3",
   "language": "python",
   "name": "python3"
  },
  "language_info": {
   "codemirror_mode": {
    "name": "ipython",
    "version": 3
   },
   "file_extension": ".py",
   "mimetype": "text/x-python",
   "name": "python",
   "nbconvert_exporter": "python",
   "pygments_lexer": "ipython3",
   "version": "3.8.8"
  }
 },
 "nbformat": 4,
 "nbformat_minor": 5
}
