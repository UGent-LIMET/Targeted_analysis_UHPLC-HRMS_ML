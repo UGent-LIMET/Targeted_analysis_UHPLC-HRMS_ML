{
 "cells": [
  {
   "cell_type": "code",
   "execution_count": null,
   "metadata": {},
   "outputs": [],
   "source": [
    "import numpy as np\n",
    "import tqdm\n",
    "import pandas as pd"
   ]
  },
  {
   "cell_type": "code",
   "execution_count": null,
   "metadata": {},
   "outputs": [],
   "source": [
    "def ThermoTXT_to_LongDF(filename):\n",
    "    df_cols = [\"scannumber\", \"time\", \"intensity\", \"m_over_z\"]\n",
    "    df = []\n",
    "    \n",
    "    n_scans = 0\n",
    "    for line in open(filename, \"r\"):\n",
    "        if \"ScanHeader\" in line:\n",
    "            n_scans = int(line.split(\"#\")[1].strip())\n",
    "    print(f\"There are {n_scans} rts\")\n",
    "\n",
    "    current_scan = 0\n",
    "    for line in open(filename, \"r\"):\n",
    "        if \"ScanHeader\" in line:\n",
    "            current_scan = int(line.split(\"#\")[1].strip())\n",
    "            print(f\"{current_scan}/{n_scans}\")\n",
    "        if \"start_time\" in line:\n",
    "            time = str(line.split(\", \")[0].strip())\n",
    "            time = float(time.split(\"= \")[1].strip())\n",
    "        if ' intensity =' in line:\n",
    "            _, intensity, m_over_z = line.split(\",\")\n",
    "            intensity = float(intensity.replace(\"intensity = \", \"\").strip())\n",
    "            m_over_z = float(m_over_z.replace(\"mass/position = \", \"\").strip())\n",
    "            df.append([\n",
    "                current_scan,\n",
    "                time,\n",
    "                intensity,\n",
    "                m_over_z\n",
    "            ])\n",
    "    df2 = pd.DataFrame(df, columns=df_cols)\n",
    "    #df2.head(10)\n",
    "    new_filename = \"df_\" + filename\n",
    "    df2.to_csv(new_filename, header=df_cols, index=None, sep='\\t', mode='a')"
   ]
  },
  {
   "cell_type": "code",
   "execution_count": null,
   "metadata": {},
   "outputs": [],
   "source": [
    "#ThermoTXT_to_LongDF(\"19007sss05.txt\")"
   ]
  },
  {
   "cell_type": "code",
   "execution_count": null,
   "metadata": {},
   "outputs": [],
   "source": [
    "import os"
   ]
  },
  {
   "cell_type": "code",
   "execution_count": null,
   "metadata": {},
   "outputs": [],
   "source": [
    "directory_list = os.listdir(\"C:/Users/Marilyn/Desktop/Thermo_convert\")\n",
    "filenames = []\n",
    "for filename in directory_list:\n",
    "    #print (filename) #all files, folders\n",
    "    if \".txt\" in filename:\n",
    "        print (filename)\n",
    "        filenames.append(filename)"
   ]
  },
  {
   "cell_type": "code",
   "execution_count": null,
   "metadata": {},
   "outputs": [],
   "source": [
    "print(filenames)"
   ]
  },
  {
   "cell_type": "code",
   "execution_count": null,
   "metadata": {},
   "outputs": [],
   "source": [
    "for filename in filenames:\n",
    "    print(filename)\n",
    "    ThermoTXT_to_LongDF(filename)"
   ]
  },
  {
   "cell_type": "code",
   "execution_count": null,
   "metadata": {},
   "outputs": [],
   "source": []
  },
  {
   "cell_type": "code",
   "execution_count": null,
   "metadata": {},
   "outputs": [],
   "source": []
  },
  {
   "cell_type": "code",
   "execution_count": null,
   "metadata": {},
   "outputs": [],
   "source": []
  },
  {
   "cell_type": "code",
   "execution_count": null,
   "metadata": {},
   "outputs": [],
   "source": [
    "## old code from 3S"
   ]
  },
  {
   "cell_type": "code",
   "execution_count": null,
   "metadata": {},
   "outputs": [],
   "source": [
    "data = np.array(df)"
   ]
  },
  {
   "cell_type": "code",
   "execution_count": null,
   "metadata": {},
   "outputs": [],
   "source": [
    "del df"
   ]
  },
  {
   "cell_type": "code",
   "execution_count": null,
   "metadata": {},
   "outputs": [],
   "source": [
    "def pivot_table(data):\n",
    "    rows, row_pos = np.unique(data[:, 0], return_inverse=True)\n",
    "    cols, col_pos = np.unique(data[:, 1], return_inverse=True)\n",
    "\n",
    "    pivot_table = np.zeros((len(rows), len(cols)), dtype=data.dtype)\n",
    "    pivot_table[row_pos, col_pos] = data[:, 2]\n",
    "    return pivot_table"
   ]
  },
  {
   "cell_type": "code",
   "execution_count": null,
   "metadata": {},
   "outputs": [],
   "source": [
    "import matplotlib.pyplot as plt\n",
    "import pandas as pd"
   ]
  },
  {
   "cell_type": "code",
   "execution_count": null,
   "metadata": {},
   "outputs": [],
   "source": [
    "df = pd.DataFrame(data, columns=df_cols)"
   ]
  },
  {
   "cell_type": "code",
   "execution_count": null,
   "metadata": {},
   "outputs": [],
   "source": [
    "df.m_over_z.unique()"
   ]
  },
  {
   "cell_type": "code",
   "execution_count": null,
   "metadata": {},
   "outputs": [],
   "source": [
    "len(df[df.scannumber==1200].m_over_z.unique())"
   ]
  },
  {
   "cell_type": "code",
   "execution_count": null,
   "metadata": {},
   "outputs": [],
   "source": [
    "len(df.m_over_z.unique())"
   ]
  },
  {
   "cell_type": "code",
   "execution_count": null,
   "metadata": {},
   "outputs": [],
   "source": [
    "plt.figure()\n",
    "plt.scatter(\n",
    "    df[df.scannumber == 1600].m_over_z,\n",
    "    np.log10(df[df.scannumber == 1600].intensity),\n",
    "    marker='.'\n",
    ")"
   ]
  },
  {
   "cell_type": "code",
   "execution_count": null,
   "metadata": {},
   "outputs": [],
   "source": [
    "data_small = []\n",
    "for scannumber in tqdm.tqdm(range(1, n_scans+1)):\n",
    "    data_small.append(\n",
    "        np.interp(\n",
    "            x=np.arange(0, 800, 1),\n",
    "            xp=df[df.scannumber == scannumber].m_over_z,\n",
    "            fp=df[df.scannumber == scannumber].intensity\n",
    "        )\n",
    "    )"
   ]
  },
  {
   "cell_type": "code",
   "execution_count": null,
   "metadata": {},
   "outputs": [],
   "source": [
    "data_small = np.array(data_small)"
   ]
  },
  {
   "cell_type": "code",
   "execution_count": null,
   "metadata": {},
   "outputs": [],
   "source": [
    "plt.figure()\n",
    "plt.contour(np.log10(data_small+1))\n",
    "plt.colorbar()\n",
    "plt.show()"
   ]
  },
  {
   "cell_type": "code",
   "execution_count": null,
   "metadata": {},
   "outputs": [],
   "source": []
  }
 ],
 "metadata": {
  "kernelspec": {
   "display_name": "Python 3",
   "language": "python",
   "name": "python3"
  },
  "language_info": {
   "codemirror_mode": {
    "name": "ipython",
    "version": 3
   },
   "file_extension": ".py",
   "mimetype": "text/x-python",
   "name": "python",
   "nbconvert_exporter": "python",
   "pygments_lexer": "ipython3",
   "version": "3.6.8"
  }
 },
 "nbformat": 4,
 "nbformat_minor": 2
}
